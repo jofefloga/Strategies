{
 "cells": [
  {
   "cell_type": "code",
   "execution_count": 1,
   "metadata": {},
   "outputs": [],
   "source": [
    "#Importar librerías\n",
    "import numpy as np\n",
    "import datetime\n",
    "import matplotlib.pyplot as plt\n",
    "import pandas as pd\n",
    "import pandas_datareader.data as web\n",
    "import seaborn as sns\n",
    "import scipy.optimize as opt #Importar el módulo optimize de la librería scipy"
   ]
  },
  {
   "cell_type": "code",
   "execution_count": 2,
   "metadata": {},
   "outputs": [],
   "source": [
    "def get_adj_closes(tickers,start_date=None, end_date=None):\n",
    "    #Fecha de inicio por defecto (start_date='2010-01-01') y fecha fin por defecto (end_date=today)\n",
    "    #Descargamos DataFrame con todos los datos\n",
    "    closes = web.DataReader(name=tickers, data_source='yahoo', start=start_date, end=end_date)\n",
    "    #Unicamente necesitamos los precios ajustados en el cierre\n",
    "    closes = closes['Adj Close']\n",
    "    #Se ordenan de forma ascendente\n",
    "    closes.sort_index(inplace=True)\n",
    "    return closes"
   ]
  },
  {
   "cell_type": "code",
   "execution_count": 3,
   "metadata": {},
   "outputs": [],
   "source": [
    "#Descargar datos de emisoras 2020\n",
    "emisoras = pd.read_csv('Emisoras2020.csv', header=0)\n",
    "emisoras = np.array(emisoras).flatten()"
   ]
  },
  {
   "cell_type": "code",
   "execution_count": 4,
   "metadata": {},
   "outputs": [],
   "source": [
    "#Descargar datos\n",
    "# names = ['ALSEA.MX','CEMEXCPO.MX','GENTERA.MX']\n",
    "start = '2010-01-01'"
   ]
  },
  {
   "cell_type": "code",
   "execution_count": null,
   "metadata": {
    "scrolled": true
   },
   "outputs": [],
   "source": [
    "#importar datos\n",
    "closes = get_adj_closes(emisoras,start_date=start)\n",
    "closes = closes.dropna()\n"
   ]
  },
  {
   "cell_type": "code",
   "execution_count": null,
   "metadata": {},
   "outputs": [],
   "source": [
    "import pickle\n",
    "\n",
    "#Guardar resultados\n",
    "#pickle.dump(closes,open('closes.sav','wb'))\n",
    "\n",
    "#Cargar resultados\n",
    "#closes = pickle.load(open('closes.sav', 'rb'))"
   ]
  },
  {
   "cell_type": "code",
   "execution_count": null,
   "metadata": {},
   "outputs": [],
   "source": [
    "#Delimitar datos\n",
    "closes = closes[closes.index.year >= 2015]"
   ]
  },
  {
   "cell_type": "code",
   "execution_count": null,
   "metadata": {},
   "outputs": [],
   "source": [
    "#Seleccionar emisoras que contengan los suficientes datos\n",
    "emisoras = [i for i in emisoras if closes[i].isnull().sum() < 2]"
   ]
  },
  {
   "cell_type": "code",
   "execution_count": null,
   "metadata": {},
   "outputs": [],
   "source": [
    "len(emisoras)"
   ]
  },
  {
   "cell_type": "code",
   "execution_count": null,
   "metadata": {},
   "outputs": [],
   "source": [
    "#Filtrar cierres de emisoras\n",
    "closes = closes.loc[:,emisoras].dropna()\n",
    "closes.head()"
   ]
  },
  {
   "cell_type": "code",
   "execution_count": null,
   "metadata": {
    "scrolled": true
   },
   "outputs": [],
   "source": [
    "#Rendimientos diarios\n",
    "ret = closes.pct_change(1).dropna()\n",
    "ret.head()"
   ]
  },
  {
   "cell_type": "code",
   "execution_count": null,
   "metadata": {
    "scrolled": true
   },
   "outputs": [],
   "source": [
    "#Se siguen eliminando emisoras atípicas (no tan bursátiles)\n",
    "emisoras = [i for i in emisoras if ret[i][ret[i]==0].count() < 300]\n",
    "len(emisoras)"
   ]
  },
  {
   "cell_type": "code",
   "execution_count": null,
   "metadata": {
    "scrolled": true
   },
   "outputs": [],
   "source": [
    "#Graficar emisoras bursatiles\n",
    "#Filtrar cierres de emisoras\n",
    "closes = closes.loc[:,emisoras].dropna()\n",
    "closes.head()"
   ]
  },
  {
   "cell_type": "code",
   "execution_count": null,
   "metadata": {},
   "outputs": [],
   "source": [
    "#Rendimientos diarios\n",
    "ret = closes.pct_change(1).dropna()\n",
    "ret.head()"
   ]
  },
  {
   "cell_type": "code",
   "execution_count": null,
   "metadata": {
    "scrolled": true
   },
   "outputs": [],
   "source": [
    "#Grafico de históricos diarios\n",
    "closes.plot(figsize=(12,5), grid=True, legend=False)"
   ]
  },
  {
   "cell_type": "code",
   "execution_count": null,
   "metadata": {},
   "outputs": [],
   "source": [
    "#Grafico de rendimientos diarios\n",
    "ret.plot(figsize=(12,5), grid=True, alpha=0.5, legend=False)"
   ]
  },
  {
   "cell_type": "code",
   "execution_count": null,
   "metadata": {
    "scrolled": false
   },
   "outputs": [],
   "source": [
    "#Resumen en base anual\n",
    "annual_ret_summary = pd.DataFrame({'Mean':252*ret.mean(),'Volatility':np.sqrt(252)*ret.std()}, index=ret.columns)\n",
    "annual_ret_summary = annual_ret_summary[annual_ret_summary['Mean']>0]\n",
    "annual_ret_summary"
   ]
  },
  {
   "cell_type": "code",
   "execution_count": null,
   "metadata": {},
   "outputs": [],
   "source": [
    "#Delimitar a emisoras con rendimientos esperados positivos\n",
    "emisoras = annual_ret_summary.index.values"
   ]
  },
  {
   "cell_type": "code",
   "execution_count": null,
   "metadata": {
    "scrolled": false
   },
   "outputs": [],
   "source": [
    "#Graficar rendimiento esperado vs volatilidad\n",
    "\n",
    "#Puntos a graficar\n",
    "x_points = annual_ret_summary.Volatility\n",
    "y_points = annual_ret_summary.Mean\n",
    "\n",
    "#Graficar\n",
    "plt.figure(figsize=(10,10))\n",
    "plt.plot(x_points,y_points,'o')\n",
    "#Etiquetas de eje\n",
    "plt.xlabel('Volatility')\n",
    "plt.ylabel('Expected Return')\n",
    "#Etiquetas de instrumentos\n",
    "for i in emisoras:\n",
    "    plt.text(annual_ret_summary.loc[i,'Volatility'], annual_ret_summary.loc[i,'Mean'], i,rotation=0)\n",
    "#plt.grid()"
   ]
  },
  {
   "cell_type": "code",
   "execution_count": null,
   "metadata": {},
   "outputs": [],
   "source": [
    "# Funcion objetivo y condicion inicial\n",
    "def obj_fun(beta, Er, sigma):\n",
    "    return ((Er - (beta[0]+beta[1]*sigma))**2).sum()\n",
    "\n",
    "#beta_0 no es igual a beta[0]\n",
    "beta_0 = [0,1]"
   ]
  },
  {
   "cell_type": "code",
   "execution_count": null,
   "metadata": {
    "scrolled": true
   },
   "outputs": [],
   "source": [
    "# Resolver problema de optimizacion\n",
    "solution = opt.minimize(obj_fun,beta_0, args=(y_points,x_points))\n",
    "solution"
   ]
  },
  {
   "cell_type": "code",
   "execution_count": null,
   "metadata": {},
   "outputs": [],
   "source": [
    "#Soluciones de la recta\n",
    "beta = solution.x\n",
    "beta"
   ]
  },
  {
   "cell_type": "code",
   "execution_count": null,
   "metadata": {},
   "outputs": [],
   "source": [
    "#Graficar rendimiento esperado vs volatilidad\n",
    "\n",
    "#Puntos a graficar\n",
    "x_points = annual_ret_summary.Volatility\n",
    "y_points = annual_ret_summary.Mean\n",
    "\n",
    "#Graficar\n",
    "plt.figure(figsize=(10,10))\n",
    "plt.title('Volatilidad vs Rendimiento Esperado de Emisoras')\n",
    "plt.plot(x_points,y_points,'o')\n",
    "#Etiquetas de eje\n",
    "plt.xlabel('Volatility')\n",
    "plt.ylabel('Expected Return')\n",
    "#Etiquetas de instrumentos\n",
    "for i in emisoras:\n",
    "    plt.text(annual_ret_summary.loc[i,'Volatility'], annual_ret_summary.loc[i,'Mean'], i,rotation=0)\n",
    "# Grafico recta ajustada\n",
    "plt.plot(x_points, beta[0]+beta[1] * x_points, label='Recta Optima')\n",
    "plt.legend()\n",
    "plt.show()"
   ]
  },
  {
   "cell_type": "code",
   "execution_count": null,
   "metadata": {},
   "outputs": [],
   "source": [
    "#Delimitar emisoras\n",
    "opt = (y_points - (beta[0]+beta[1] * x_points))\n",
    "emisoras = opt[opt > 0].index\n",
    "emisoras"
   ]
  },
  {
   "cell_type": "code",
   "execution_count": null,
   "metadata": {},
   "outputs": [],
   "source": [
    "#Graficar emisoras bursatiles\n",
    "#Filtrar cierres de emisoras\n",
    "closes = closes.loc[:,emisoras].dropna()\n",
    "closes.head()"
   ]
  },
  {
   "cell_type": "code",
   "execution_count": null,
   "metadata": {},
   "outputs": [],
   "source": [
    "#Rendimientos diarios\n",
    "ret = closes.pct_change(1).dropna()\n",
    "ret.head()"
   ]
  },
  {
   "cell_type": "code",
   "execution_count": null,
   "metadata": {},
   "outputs": [],
   "source": [
    "#Graficar las correlaciones entre los activos\n",
    "corrcoef = ret.corr()\n",
    "f, ax = plt.subplots(figsize=(8, 5))\n",
    "ax = sns.heatmap(corrcoef)"
   ]
  },
  {
   "cell_type": "code",
   "execution_count": null,
   "metadata": {},
   "outputs": [],
   "source": []
  },
  {
   "cell_type": "code",
   "execution_count": null,
   "metadata": {},
   "outputs": [],
   "source": []
  },
  {
   "cell_type": "code",
   "execution_count": null,
   "metadata": {},
   "outputs": [],
   "source": []
  },
  {
   "cell_type": "code",
   "execution_count": null,
   "metadata": {},
   "outputs": [],
   "source": []
  },
  {
   "cell_type": "code",
   "execution_count": null,
   "metadata": {},
   "outputs": [],
   "source": []
  },
  {
   "cell_type": "code",
   "execution_count": null,
   "metadata": {},
   "outputs": [],
   "source": []
  },
  {
   "cell_type": "code",
   "execution_count": null,
   "metadata": {},
   "outputs": [],
   "source": []
  },
  {
   "cell_type": "code",
   "execution_count": null,
   "metadata": {},
   "outputs": [],
   "source": []
  },
  {
   "cell_type": "code",
   "execution_count": null,
   "metadata": {},
   "outputs": [],
   "source": []
  },
  {
   "cell_type": "code",
   "execution_count": null,
   "metadata": {},
   "outputs": [],
   "source": []
  },
  {
   "cell_type": "code",
   "execution_count": null,
   "metadata": {},
   "outputs": [],
   "source": []
  },
  {
   "cell_type": "code",
   "execution_count": null,
   "metadata": {},
   "outputs": [],
   "source": []
  },
  {
   "cell_type": "code",
   "execution_count": null,
   "metadata": {},
   "outputs": [],
   "source": []
  },
  {
   "cell_type": "code",
   "execution_count": null,
   "metadata": {},
   "outputs": [],
   "source": []
  }
 ],
 "metadata": {
  "kernelspec": {
   "display_name": "Python 3",
   "language": "python",
   "name": "python3"
  },
  "language_info": {
   "codemirror_mode": {
    "name": "ipython",
    "version": 3
   },
   "file_extension": ".py",
   "mimetype": "text/x-python",
   "name": "python",
   "nbconvert_exporter": "python",
   "pygments_lexer": "ipython3",
   "version": "3.8.3"
  }
 },
 "nbformat": 4,
 "nbformat_minor": 4
}

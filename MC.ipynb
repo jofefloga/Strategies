{
 "cells": [
  {
   "cell_type": "code",
   "execution_count": 1,
   "metadata": {},
   "outputs": [],
   "source": [
    "#Importar librerías\n",
    "import time\n",
    "import pickle\n",
    "import datetime\n",
    "import numpy as np\n",
    "import pandas as pd\n",
    "from datetime import datetime\n",
    "import matplotlib.pyplot as plt"
   ]
  },
  {
   "cell_type": "code",
   "execution_count": 2,
   "metadata": {
    "scrolled": true
   },
   "outputs": [],
   "source": [
    "#Importar datos \n",
    "data01 = pd.read_csv('EURUSD_M1_202001.csv',header=None)#,usecols=(0,1,5)  \n",
    "data02 = pd.read_csv('EURUSD_M1_202002.csv',header=None)#,usecols=(0,1,5)\n",
    "data03 = pd.read_csv('EURUSD_M1_202003.csv',header=None)#,usecols=(0,1,5)\n",
    "data04 = pd.read_csv('EURUSD_M1_202004.csv',header=None)#,usecols=(0,1,5)\n",
    "data05 = pd.read_csv('EURUSD_M1_202005.csv',header=None)#,usecols=(0,1,5)\n",
    "data06 = pd.read_csv('EURUSD_M1_202006.csv',header=None)#,usecols=(0,1,5)\n",
    "data07 = pd.read_csv('EURUSD_M1_202007.csv',header=None)#,usecols=(0,1,5)\n",
    "data08 = pd.read_csv('EURUSD_M1_202008.csv',header=None)#,usecols=(0,1,5)\n",
    "data09 = pd.read_csv('EURUSD_M1_202009.csv',header=None)#,usecols=(0,1,5)\n",
    "data10 = pd.read_csv('EURUSD_M1_202010.csv',header=None)#,usecols=(0,1,5)\n",
    "\n",
    "#Importar datos de prueba\n",
    "data11 = pd.read_csv('EURUSD_M1_202011.csv',header=None)#,usecols=(0,1,5)\n",
    "data12 = pd.read_csv('EURUSD_M1_202012.csv',header=None)#,usecols=(0,1,5)"
   ]
  },
  {
   "cell_type": "code",
   "execution_count": 3,
   "metadata": {},
   "outputs": [],
   "source": [
    "#data = pd.concat([data08,data09,data10])\n",
    "def align(data):\n",
    "    data.columns = ['Day','Minute','Open','High','Low','Close','Volume'] #Cambiar nombre de columnas\n",
    "    data['Time']= data['Day'].str.cat(data['Minute'], sep =' ') #Unir datos de día y minuto\n",
    "    data['Time'] = pd.to_datetime(data['Time']) #Data a modo DateTime\n",
    "    data.pop('Day') #Eliminar columna día\n",
    "    data.pop('Minute') #Eliminar columna de minutos\n",
    "    data = data.set_index('Time') #Establecer columna de tiempo como índice\n",
    "    data.pop('Volume')\n",
    "    return data\n",
    "\n",
    "def align2(data):\n",
    "    data.columns = ['Time','Open','High','Low','Close','Volume'] #Cambiar nombre de columnas\n",
    "    data['Time'] = pd.to_datetime(data['Time']) #Data a modo DateTime\n",
    "    data = data.set_index('Time') #Establecer columna de tiempo como índice\n",
    "    data.pop('Volume')\n",
    "    return data"
   ]
  },
  {
   "cell_type": "code",
   "execution_count": 4,
   "metadata": {},
   "outputs": [
    {
     "data": {
      "text/html": [
       "<div>\n",
       "<style scoped>\n",
       "    .dataframe tbody tr th:only-of-type {\n",
       "        vertical-align: middle;\n",
       "    }\n",
       "\n",
       "    .dataframe tbody tr th {\n",
       "        vertical-align: top;\n",
       "    }\n",
       "\n",
       "    .dataframe thead th {\n",
       "        text-align: right;\n",
       "    }\n",
       "</style>\n",
       "<table border=\"1\" class=\"dataframe\">\n",
       "  <thead>\n",
       "    <tr style=\"text-align: right;\">\n",
       "      <th></th>\n",
       "      <th>Open</th>\n",
       "      <th>High</th>\n",
       "      <th>Low</th>\n",
       "      <th>Close</th>\n",
       "    </tr>\n",
       "    <tr>\n",
       "      <th>Time</th>\n",
       "      <th></th>\n",
       "      <th></th>\n",
       "      <th></th>\n",
       "      <th></th>\n",
       "    </tr>\n",
       "  </thead>\n",
       "  <tbody>\n",
       "    <tr>\n",
       "      <th>2020-01-01 17:00:00</th>\n",
       "      <td>1.12120</td>\n",
       "      <td>1.12121</td>\n",
       "      <td>1.12117</td>\n",
       "      <td>1.12120</td>\n",
       "    </tr>\n",
       "    <tr>\n",
       "      <th>2020-01-01 17:01:00</th>\n",
       "      <td>1.12106</td>\n",
       "      <td>1.12135</td>\n",
       "      <td>1.12106</td>\n",
       "      <td>1.12135</td>\n",
       "    </tr>\n",
       "    <tr>\n",
       "      <th>2020-01-01 17:02:00</th>\n",
       "      <td>1.12136</td>\n",
       "      <td>1.12139</td>\n",
       "      <td>1.12136</td>\n",
       "      <td>1.12139</td>\n",
       "    </tr>\n",
       "    <tr>\n",
       "      <th>2020-01-01 17:03:00</th>\n",
       "      <td>1.12135</td>\n",
       "      <td>1.12135</td>\n",
       "      <td>1.12120</td>\n",
       "      <td>1.12122</td>\n",
       "    </tr>\n",
       "    <tr>\n",
       "      <th>2020-01-01 17:04:00</th>\n",
       "      <td>1.12122</td>\n",
       "      <td>1.12125</td>\n",
       "      <td>1.12122</td>\n",
       "      <td>1.12125</td>\n",
       "    </tr>\n",
       "  </tbody>\n",
       "</table>\n",
       "</div>"
      ],
      "text/plain": [
       "                        Open     High      Low    Close\n",
       "Time                                                   \n",
       "2020-01-01 17:00:00  1.12120  1.12121  1.12117  1.12120\n",
       "2020-01-01 17:01:00  1.12106  1.12135  1.12106  1.12135\n",
       "2020-01-01 17:02:00  1.12136  1.12139  1.12136  1.12139\n",
       "2020-01-01 17:03:00  1.12135  1.12135  1.12120  1.12122\n",
       "2020-01-01 17:04:00  1.12122  1.12125  1.12122  1.12125"
      ]
     },
     "execution_count": 4,
     "metadata": {},
     "output_type": "execute_result"
    }
   ],
   "source": [
    "#Concatenar datos\n",
    "data = pd.concat([data01,data02,data03,data04,data05,data06,data07,data08,data09,data10])\n",
    "data = align(data)\n",
    "data.head()"
   ]
  },
  {
   "cell_type": "code",
   "execution_count": 5,
   "metadata": {
    "scrolled": false
   },
   "outputs": [],
   "source": [
    "#Rendimientos y tamaños de las velas\n",
    "#data['Return'] = data.Close/data.Open -1\n",
    "#data['Size'] = data.High - data.Low\n",
    "#data = data.dropna()\n",
    "# data"
   ]
  },
  {
   "cell_type": "code",
   "execution_count": 6,
   "metadata": {},
   "outputs": [],
   "source": [
    "# # RSI\n",
    "# delta = data.Close.diff(1)\n",
    "# up = delta.copy()\n",
    "# down = delta.copy()\n",
    "# up[up<0] = 0\n",
    "# down[down>0] = 0\n",
    "\n",
    "# #Period\n",
    "# period = 50\n",
    "# AVG_Gain = up.rolling(window=period).mean()\n",
    "# AVG_Loss = abs(down.rolling(window=period).mean())\n",
    "\n",
    "# #RS\n",
    "# RS = AVG_Gain / AVG_Loss\n",
    "\n",
    "# RSI = 100.0 - (100.0 / (1.0 + RS))"
   ]
  },
  {
   "cell_type": "code",
   "execution_count": 7,
   "metadata": {},
   "outputs": [
    {
     "data": {
      "image/png": "[encoded data removed]",
      "text/plain": [
       "<Figure size 864x360 with 1 Axes>"
      ]
     },
     "metadata": {
      "needs_background": "light"
     },
     "output_type": "display_data"
    }
   ],
   "source": [
    "#Graficar los datos\n",
    "plt.figure(figsize=(12,5))\n",
    "plt.plot(data.Close.values,label='EURSD',c='k')\n",
    "\n",
    "plt.plot(np.arange(len(data)),data.Close.rolling(50).mean(),label='RollingMeanShort', c='steelblue')\n",
    "plt.plot(np.arange(len(data)),data.Close.rolling(500).mean(),label='RollingMeanLong',c='blue')\n",
    "\n",
    "plt.plot(np.arange(len(data)),np.ones(len(data))*data.Close.mean(),label='Mean')\n",
    "plt.title('EUR/USD Closes',fontdict={'weight':'bold','fontsize':'18'})\n",
    "plt.xticks(rotation=45)\n",
    "plt.xlabel('Time')\n",
    "plt.ylabel('Price')\n",
    "plt.ylim(1.077,1.095)\n",
    "plt.xlim(42000,54000)\n",
    "plt.legend()\n",
    "plt.show()\n",
    "\n",
    "#Fig2\n",
    "#plt.figure(figsize=(12,5))\n",
    "#plt.plot(RSI.values, label='RSI')\n",
    "#plt.title('EUR/USD RSI',fontdict={'weight':'bold','fontsize':'18'})\n",
    "#plt.xticks(rotation=45)\n",
    "#plt.xlabel('Time')\n",
    "#plt.ylabel('RSI')\n",
    "## plt.ylim(1.175,1.2)\n",
    "# plt.xlim(24000,34000)\n",
    "#plt.legend()\n",
    "#plt.show()"
   ]
  },
  {
   "cell_type": "code",
   "execution_count": 8,
   "metadata": {},
   "outputs": [
    {
     "data": {
      "text/plain": [
       "(-0.0009271319796954419, 0.0024828571428571564, 0.03444999999999809)"
      ]
     },
     "execution_count": 8,
     "metadata": {},
     "output_type": "execute_result"
    }
   ],
   "source": [
    "data2 = pd.DataFrame(data['Close'])\n",
    "RMS = 50\n",
    "RML = 500\n",
    "M = 3\n",
    "data2['RMShort'] = data2.Close.rolling(50).mean()\n",
    "data2['RMSLong'] = data2.Close.rolling(500).mean()\n",
    "# data2 = data2.dropna()\n",
    "a = [1 if i>0 else 0 for i in data2.RMShort-data2.RMSLong]\n",
    "\n",
    "b = np.arange(len(data2))\n",
    "c = []\n",
    "d = []\n",
    "for k in range(1,len(data2)):\n",
    "    if a[k] > a[k-1]:\n",
    "        c.append(k)\n",
    "    elif a[k] < a[k-1]:\n",
    "        d.append(k)\n",
    "        \n",
    "TH = 0.002\n",
    "for i in range(len(d)):\n",
    "    series = np.array(data2.Close[c[i]:d[i]+1])\n",
    "    for k in range(len(series)):\n",
    "        if series[0] - series[k] > TH:\n",
    "            d[i] = d[i] - (len(series)-k-1)\n",
    "            break\n",
    "            \n",
    "Compra = data2.Close[c].values\n",
    "Venta = data2.Close[d].values\n",
    "\n",
    "x = (Venta - Compra)\n",
    "per = x[x<0]\n",
    "gain = x[x>0]\n",
    "per.mean(), gain.mean(), x.sum()"
   ]
  },
  {
   "cell_type": "markdown",
   "metadata": {},
   "source": [
    "### **Func**"
   ]
  },
  {
   "cell_type": "code",
   "execution_count": 9,
   "metadata": {},
   "outputs": [],
   "source": [
    "def estrategia(data:'Datos a probar',\n",
    "               TH:'StopLoss',\n",
    "               RMS:'Media Móvil Corta',\n",
    "               RML:'Media Móvil Larga',\n",
    "               M:'Multiplicador de TakeProfit en función de StopLoss'):\n",
    "    \n",
    "    data2 = pd.DataFrame(data['Close'])\n",
    "    data2['RMShort'] = data2.Close.rolling(RMS).mean()\n",
    "    data2['RMSLong'] = data2.Close.rolling(RML).mean()\n",
    "\n",
    "    a = [1 if i>0 else 0 for i in data2.RMShort-data2.RMSLong]\n",
    "    \n",
    "    c = []\n",
    "    d = []\n",
    "    for k in range(1,len(data2)):\n",
    "        if a[k] > a[k-1]:\n",
    "            c.append(k)\n",
    "        elif a[k] < a[k-1]:\n",
    "            d.append(k)\n",
    "            \n",
    "    for i in range(len(d)):\n",
    "        series = np.array(data2.Close[c[i]:d[i]+1])\n",
    "        for k in range(len(series)):\n",
    "            if series[0] - series[k] >= TH or series[k] - series[0] >= M*TH:\n",
    "                d[i] = d[i] - (len(series)-k-1)\n",
    "                break\n",
    "\n",
    "    Compra = data2.Close[c].values\n",
    "    Venta = data2.Close[d].values\n",
    "    \n",
    "    if len(Compra)==len(Venta):\n",
    "        x = (Venta - Compra)\n",
    "    else:\n",
    "        x = (Venta - Compra[:-1])\n",
    "        \n",
    "    return x.sum(), x, c,d,Compra,Venta"
   ]
  },
  {
   "cell_type": "code",
   "execution_count": 10,
   "metadata": {},
   "outputs": [],
   "source": [
    "def estrategiacomp(data:'Datos a probar',\n",
    "                   TH:'StopLoss',\n",
    "                   RMS:'Media Móvil Corta',\n",
    "                   RML:'Media Móvil Larga',\n",
    "                   M:'Multiplicador de TakeProfit en función de StopLoss'):\n",
    "    \n",
    "    data2 = pd.DataFrame(data['Close'])\n",
    "    data2['RMShort'] = data2.Close.rolling(RMS).mean()\n",
    "    data2['RMSLong'] = data2.Close.rolling(RML).mean()\n",
    "    M_TH = M*TH\n",
    "    a = [1 if i>0 else 0 for i in data2.RMShort-data2.RMSLong]\n",
    "\n",
    "    c = []\n",
    "    d = []\n",
    "    for k in range(1,len(data2)):\n",
    "        if a[k] > a[k-1]:\n",
    "            c.append(k)\n",
    "        elif a[k] < a[k-1]:\n",
    "            d.append(k)\n",
    "\n",
    "    c_ = c[1:]\n",
    "    d_ = d\n",
    "            \n",
    "    #Compra a Venta\n",
    "    for i in range(len(d)):\n",
    "        series = np.array(data2.Close[c[i]:d[i]+1])\n",
    "        for k in range(len(series)):\n",
    "            if series[0] - series[k] >= TH or series[k] - series[0] >= M_TH:\n",
    "                d[i] = d[i] - (len(series)-k-1)\n",
    "                break\n",
    "\n",
    "    Compra = data2.Close[c].values\n",
    "    Venta = data2.Close[d].values\n",
    "\n",
    "    x = (Venta - Compra[:len(Venta)])\n",
    "\n",
    "    #Venta Rápida\n",
    "    for i in range(len(d_)-1):\n",
    "        series_ = np.array(data2.Close[d_[i]:c_[i]+1])\n",
    "        for k in range(len(series_)):\n",
    "            if series_[k] - series_[0] >= TH or series_[0] - series_[k] >= M_TH:\n",
    "                c_[i] = c_[i] - (len(series_)-k-1)\n",
    "                break\n",
    "\n",
    "    Compra_ = data2.Close[c_].values\n",
    "    Venta_ = data2.Close[d_].values\n",
    "\n",
    "    y = (Venta_[:len(Compra_)] - Compra_)\n",
    "\n",
    "\n",
    "    profit_compras = x.sum()\n",
    "    profit_ventas = y.sum()\n",
    "\n",
    "    profit = profit_compras + profit_ventas\n",
    "\n",
    "    return profit_compras, profit_ventas, profit"
   ]
  },
  {
   "cell_type": "code",
   "execution_count": 11,
   "metadata": {},
   "outputs": [],
   "source": [
    "def compra_abierta():\n",
    "    m_th = M*TH\n",
    "    th = TH\n",
    "    return [next((x for x in xs if x - xs[0] >= th or xs[0] - x >= m_th),xs[0])for xs in series]"
   ]
  },
  {
   "cell_type": "code",
   "execution_count": 12,
   "metadata": {},
   "outputs": [],
   "source": [
    "def venta_abierta():\n",
    "    m_th = M*TH\n",
    "    th = TH\n",
    "    return [next((x for x in xs if xs[0] - x >= th or x - xs[0] >= m_th),xs[0])for xs in series_]"
   ]
  },
  {
   "cell_type": "code",
   "execution_count": 13,
   "metadata": {},
   "outputs": [],
   "source": [
    "def estrategiaabierta(data:'Datos a probar',\n",
    "                   TH:'StopLoss',\n",
    "                   RMS:'Media Móvil Corta',\n",
    "                   RML:'Media Móvil Larga',\n",
    "                   M:'Multiplicador de TakeProfit en función de StopLoss'):\n",
    "    \n",
    "    data2 = pd.DataFrame(data['Close'])\n",
    "    data2['RMShort'] = data2.Close.rolling(RMS).mean()\n",
    "    data2['RMSLong'] = data2.Close.rolling(RML).mean()\n",
    "    M_TH = M*TH\n",
    "    a = [1 if i>0 else 0 for i in data2.RMShort-data2.RMSLong]\n",
    "\n",
    "    c = []\n",
    "    d = []\n",
    "    for k in range(1,len(data2)):\n",
    "        if a[k] > a[k-1]:\n",
    "            c.append(k)\n",
    "        elif a[k] < a[k-1]:\n",
    "            d.append(k)\n",
    "    series = []        \n",
    "    for i in range(len(c)):\n",
    "        series.append(np.array(data2.Close[c[i]:]))\n",
    "    \n",
    "    series_ = []\n",
    "    for i in range(len(d)):\n",
    "        series_.append(np.array(data2.Close[d[i]:]))\n",
    "\n",
    "    Compra = data2.Close[c].values\n",
    "    Venta = [next((x for x in xs if xs[0] - x >= TH or x - xs[0] >= M_TH),xs[0])for xs in series]\n",
    "\n",
    "    x = (Venta - Compra[:len(Venta)])\n",
    "\n",
    "    Compra_ = [next((x for x in xs if x - xs[0] >= TH or xs[0] - x >= M_TH),xs[0])for xs in series_]\n",
    "    Venta_ = data2.Close[d].values\n",
    "\n",
    "    y = (Venta_[:len(Compra_)] - Compra_)\n",
    "\n",
    "\n",
    "    profit_compras = x.sum()\n",
    "    profit_ventas = y.sum()\n",
    "\n",
    "    profit = profit_compras + profit_ventas\n",
    "    \n",
    "    return profit_compras, profit_ventas, profit"
   ]
  },
  {
   "cell_type": "code",
   "execution_count": 14,
   "metadata": {},
   "outputs": [],
   "source": [
    "def strat_ema(data:'Datos a probar',\n",
    "                   TH:'StopLoss',\n",
    "                   RMS:'Media Móvil Corta',\n",
    "                   RML:'Media Móvil Larga',\n",
    "                   M:'Multiplicador de TakeProfit en función de StopLoss'):\n",
    "    \n",
    "    data2 = pd.DataFrame(data['Close'])\n",
    "    data2['RMShort'] = data2.Close.ewm(span=RMS, adjust=False).mean()\n",
    "    data2['RMSLong'] = data2.Close.ewm(span=RML, adjust=False).mean()\n",
    "    M_TH = M*TH\n",
    "    a = [1 if i>0 else 0 for i in data2.RMShort-data2.RMSLong]\n",
    "\n",
    "    c = []\n",
    "    d = []\n",
    "    for k in range(1,len(data2)):\n",
    "        if a[k] > a[k-1]:\n",
    "            c.append(k)\n",
    "        elif a[k] < a[k-1]:\n",
    "            d.append(k)\n",
    "\n",
    "    c_ = c[1:]\n",
    "    d_ = d\n",
    "            \n",
    "    #Compra a Venta\n",
    "    for i in range(len(d)):\n",
    "        series = np.array(data2.Close[c[i]:d[i]+1])\n",
    "        for k in range(len(series)):\n",
    "            if series[0] - series[k] >= TH or series[k] - series[0] >= M_TH:\n",
    "                d[i] = d[i] - (len(series)-k-1)\n",
    "                break\n",
    "\n",
    "    Compra = data2.Close[c].values\n",
    "    Venta = data2.Close[d].values\n",
    "\n",
    "    x = (Venta - Compra[:len(Venta)])\n",
    "\n",
    "    #Venta Rápida\n",
    "    for i in range(len(d_)-1):\n",
    "        series_ = np.array(data2.Close[d_[i]:c_[i]+1])\n",
    "        for k in range(len(series_)):\n",
    "            if series_[k] - series_[0] >= TH or series_[0] - series_[k] >= M_TH:\n",
    "                c_[i] = c_[i] - (len(series_)-k-1)\n",
    "                break\n",
    "\n",
    "    Compra_ = data2.Close[c_].values\n",
    "    Venta_ = data2.Close[d_].values\n",
    "\n",
    "    y = (Venta_[:len(Compra_)] - Compra_)\n",
    "\n",
    "\n",
    "    profit_compras = x.sum()\n",
    "    profit_ventas = y.sum()\n",
    "\n",
    "    profit = profit_compras + profit_ventas\n",
    "\n",
    "    return profit_compras, profit_ventas, profit"
   ]
  },
  {
   "cell_type": "code",
   "execution_count": 15,
   "metadata": {},
   "outputs": [],
   "source": [
    "def sae(data:'Datos a probar',\n",
    "                   TH:'StopLoss',\n",
    "                   RMS:'Media Móvil Corta',\n",
    "                   RML:'Media Móvil Larga',\n",
    "                   M:'Multiplicador de TakeProfit en función de StopLoss'):\n",
    "    \n",
    "    data2 = pd.DataFrame(data['Close'])\n",
    "    data2['RMShort'] = data2.Close.ewm(span=RMS, adjust=False).mean()\n",
    "    data2['RMSLong'] = data2.Close.rolling(RML).mean()\n",
    "    M_TH = M*TH\n",
    "    a = [1 if i>0 else 0 for i in data2.RMShort-data2.RMSLong]\n",
    "\n",
    "    c = []\n",
    "    d = []\n",
    "    for k in range(1,len(data2)):\n",
    "        if a[k] > a[k-1]:\n",
    "            c.append(k)\n",
    "        elif a[k] < a[k-1]:\n",
    "            d.append(k)\n",
    "    series = []        \n",
    "    for i in range(len(c)):\n",
    "        series.append(np.array(data2.Close[c[i]:]))\n",
    "    \n",
    "    series_ = []\n",
    "    for i in range(len(d)):\n",
    "        series_.append(np.array(data2.Close[d[i]:]))\n",
    "\n",
    "    Compra = data2.Close[c].values\n",
    "    Venta = [next((x for x in xs if xs[0] - x >= TH or x - xs[0] >= M_TH),xs[0])for xs in series]\n",
    "\n",
    "    x = (Venta - Compra[:len(Venta)])\n",
    "\n",
    "    Compra_ = [next((x for x in xs if x - xs[0] >= TH or xs[0] - x >= M_TH),xs[0])for xs in series_]\n",
    "    Venta_ = data2.Close[d].values\n",
    "\n",
    "    y = (Venta_[:len(Compra_)] - Compra_)\n",
    "\n",
    "\n",
    "    profit_compras = x.sum()\n",
    "    profit_ventas = y.sum()\n",
    "\n",
    "    profit = profit_compras + profit_ventas\n",
    "    \n",
    "    return profit_compras, profit_ventas, profit"
   ]
  },
  {
   "cell_type": "code",
   "execution_count": 16,
   "metadata": {},
   "outputs": [],
   "source": [
    "RMS = 50\n",
    "RML = 400"
   ]
  },
  {
   "cell_type": "code",
   "execution_count": 17,
   "metadata": {},
   "outputs": [
    {
     "name": "stdout",
     "output_type": "stream",
     "text": [
      "1.9668748378753662\n"
     ]
    }
   ],
   "source": [
    "start = time.time()\n",
    "a__, b__, c__= estrategiaabierta(data,TH,RMS,RML,M)\n",
    "end = time.time()\n",
    "print(end - start)"
   ]
  },
  {
   "cell_type": "code",
   "execution_count": 18,
   "metadata": {},
   "outputs": [],
   "source": [
    "#Multiples backtestings\n",
    "#Datos a tomar\n",
    "#data\n",
    "\n",
    "#Threshold / StopLoss\n",
    "TH_ = np.arange(0.0003,0.003,0.0003)\n",
    "\n",
    "#Rolling Mean Short\n",
    "RMS_ = np.arange(20,75,5).astype(int)\n",
    "\n",
    "#Rolling Mean long\n",
    "RML_ = np.arange(100,550,50).astype(int)\n",
    "\n",
    "#Multiplicador de StopLoss para TakeProfit\n",
    "M_ = np.arange(2,6,1).astype(int)"
   ]
  },
  {
   "cell_type": "code",
   "execution_count": 19,
   "metadata": {},
   "outputs": [
    {
     "data": {
      "text/plain": [
       "3960"
      ]
     },
     "execution_count": 19,
     "metadata": {},
     "output_type": "execute_result"
    }
   ],
   "source": [
    "#Número de iteraciones\n",
    "len(TH_)*len(RMS_)*len(RML_)*len(M_)"
   ]
  },
  {
   "cell_type": "code",
   "execution_count": 20,
   "metadata": {},
   "outputs": [],
   "source": [
    "#Orden y valores\n",
    "#índice\n",
    "Orden = ['SL_%s'%round(a,5)+'_RMS_%s'%b+'_RML_%s'%c+'_TP_%s'%round((a*m),5) for a in TH_ for b in RMS_ for c in RML_ for m in M_]\n",
    "\n",
    "#TH\n",
    "OrdenTH = [a for a in TH_ for b in RMS_ for c in RML_ for m in M_]\n",
    "\n",
    "#RMS\n",
    "OrdenRMS = [b for a in TH_ for b in RMS_ for c in RML_ for m in M_]\n",
    "\n",
    "#RML\n",
    "OrdenRML = [c for a in TH_ for b in RMS_ for c in RML_ for m in M_]\n",
    "\n",
    "#StopLoss\n",
    "OrdenSL = [round((a*m),5) for a in TH_ for b in RMS_ for c in RML_ for m in M_]"
   ]
  },
  {
   "cell_type": "code",
   "execution_count": 21,
   "metadata": {
    "scrolled": true
   },
   "outputs": [],
   "source": [
    "#Res = [estrategiacomp(data,a,b,c,m) for a in TH_ for b in RMS_ for c in RML_ for m in M_]\n",
    "#11:40-\n",
    "#Res"
   ]
  },
  {
   "cell_type": "code",
   "execution_count": 127,
   "metadata": {},
   "outputs": [
    {
     "name": "stdout",
     "output_type": "stream",
     "text": [
      "2683.1266436576843\n"
     ]
    }
   ],
   "source": [
    "#Estructura abierta\n",
    "start = time.time()\n",
    "#Res = [estrategiacomp(data,a,b,c,m) for a in TH_ for b in RMS_ for c in RML_ for m in M_]\n",
    "end = time.time()\n",
    "print(end - start)"
   ]
  },
  {
   "cell_type": "code",
   "execution_count": 96,
   "metadata": {},
   "outputs": [
    {
     "name": "stdout",
     "output_type": "stream",
     "text": [
      "10425.406019210815\n"
     ]
    }
   ],
   "source": [
    "#Estructura abierta\n",
    "start = time.time()\n",
    "#Res_abierta = [estrategiaabierta(data,a,b,c,m) for a in TH_ for b in RMS_ for c in RML_ for m in M_]\n",
    "end = time.time()\n",
    "print(end - start)\n",
    "#10425.4"
   ]
  },
  {
   "cell_type": "code",
   "execution_count": 21,
   "metadata": {},
   "outputs": [],
   "source": [
    "#Res"
   ]
  },
  {
   "cell_type": "code",
   "execution_count": 23,
   "metadata": {},
   "outputs": [],
   "source": [
    "#Guardar resultados\n",
    "#pickle.dump(Res,open('Res.sav','wb'))"
   ]
  },
  {
   "cell_type": "code",
   "execution_count": 299,
   "metadata": {},
   "outputs": [],
   "source": [
    "#Cargar resultados\n",
    "#Res = pickle.load(open('Res.sav', 'rb'))\n",
    "Res = pickle.load(open('Res_abierta.sav', 'rb')) #Res Abierta"
   ]
  },
  {
   "cell_type": "code",
   "execution_count": 23,
   "metadata": {},
   "outputs": [],
   "source": [
    "#Res2 = [estrategiacomp(data_test,a,b,c,m) for a in TH_ for b in RMS_ for c in RML_ for m in M_]"
   ]
  },
  {
   "cell_type": "code",
   "execution_count": 300,
   "metadata": {},
   "outputs": [],
   "source": [
    "#Ordenar resultados\n",
    "\n",
    "#Profit compra-venta\n",
    "profit_cv = [i[0] for i in Res]\n",
    "\n",
    "#Profit venta en corto\n",
    "profit_vc = [i[1] for i in Res]\n",
    "\n",
    "#Profit completo\n",
    "profit = [i[2] for i in Res]"
   ]
  },
  {
   "cell_type": "code",
   "execution_count": 25,
   "metadata": {},
   "outputs": [],
   "source": [
    "# ##Ordenar resultados\n",
    "# #\n",
    "# ##Profit compra-venta\n",
    "# profit_cv = [i[0] for i in Res_abierta]\n",
    "# #\n",
    "# ##Profit venta en corto\n",
    "# profit_vc = [i[1] for i in Res_abierta]\n",
    "# #\n",
    "# ##Profit completo\n",
    "# profit = [i[2] for i in Res_abierta]"
   ]
  },
  {
   "cell_type": "code",
   "execution_count": 301,
   "metadata": {},
   "outputs": [
    {
     "data": {
      "text/html": [
       "<div>\n",
       "<style scoped>\n",
       "    .dataframe tbody tr th:only-of-type {\n",
       "        vertical-align: middle;\n",
       "    }\n",
       "\n",
       "    .dataframe tbody tr th {\n",
       "        vertical-align: top;\n",
       "    }\n",
       "\n",
       "    .dataframe thead th {\n",
       "        text-align: right;\n",
       "    }\n",
       "</style>\n",
       "<table border=\"1\" class=\"dataframe\">\n",
       "  <thead>\n",
       "    <tr style=\"text-align: right;\">\n",
       "      <th></th>\n",
       "      <th>Profit</th>\n",
       "      <th>Profit Compra-Venta</th>\n",
       "      <th>Profit Venta-Compra</th>\n",
       "      <th>TH</th>\n",
       "      <th>RMS</th>\n",
       "      <th>RML</th>\n",
       "      <th>TakeProfit</th>\n",
       "    </tr>\n",
       "  </thead>\n",
       "  <tbody>\n",
       "    <tr>\n",
       "      <th>SL_0.0003_RMS_20_RML_100_TP_0.0006</th>\n",
       "      <td>-0.06815</td>\n",
       "      <td>-0.06679</td>\n",
       "      <td>-0.00136</td>\n",
       "      <td>0.0003</td>\n",
       "      <td>20</td>\n",
       "      <td>100</td>\n",
       "      <td>0.0006</td>\n",
       "    </tr>\n",
       "    <tr>\n",
       "      <th>SL_0.0003_RMS_20_RML_100_TP_0.0009</th>\n",
       "      <td>-0.12517</td>\n",
       "      <td>-0.08865</td>\n",
       "      <td>-0.03652</td>\n",
       "      <td>0.0003</td>\n",
       "      <td>20</td>\n",
       "      <td>100</td>\n",
       "      <td>0.0009</td>\n",
       "    </tr>\n",
       "    <tr>\n",
       "      <th>SL_0.0003_RMS_20_RML_100_TP_0.0012</th>\n",
       "      <td>-0.12717</td>\n",
       "      <td>-0.10213</td>\n",
       "      <td>-0.02504</td>\n",
       "      <td>0.0003</td>\n",
       "      <td>20</td>\n",
       "      <td>100</td>\n",
       "      <td>0.0012</td>\n",
       "    </tr>\n",
       "    <tr>\n",
       "      <th>SL_0.0003_RMS_20_RML_100_TP_0.0015</th>\n",
       "      <td>-0.16387</td>\n",
       "      <td>-0.09538</td>\n",
       "      <td>-0.06849</td>\n",
       "      <td>0.0003</td>\n",
       "      <td>20</td>\n",
       "      <td>100</td>\n",
       "      <td>0.0015</td>\n",
       "    </tr>\n",
       "    <tr>\n",
       "      <th>SL_0.0003_RMS_20_RML_150_TP_0.0006</th>\n",
       "      <td>-0.07679</td>\n",
       "      <td>-0.03402</td>\n",
       "      <td>-0.04277</td>\n",
       "      <td>0.0003</td>\n",
       "      <td>20</td>\n",
       "      <td>150</td>\n",
       "      <td>0.0006</td>\n",
       "    </tr>\n",
       "  </tbody>\n",
       "</table>\n",
       "</div>"
      ],
      "text/plain": [
       "                                     Profit  Profit Compra-Venta  \\\n",
       "SL_0.0003_RMS_20_RML_100_TP_0.0006 -0.06815             -0.06679   \n",
       "SL_0.0003_RMS_20_RML_100_TP_0.0009 -0.12517             -0.08865   \n",
       "SL_0.0003_RMS_20_RML_100_TP_0.0012 -0.12717             -0.10213   \n",
       "SL_0.0003_RMS_20_RML_100_TP_0.0015 -0.16387             -0.09538   \n",
       "SL_0.0003_RMS_20_RML_150_TP_0.0006 -0.07679             -0.03402   \n",
       "\n",
       "                                    Profit Venta-Compra      TH  RMS  RML  \\\n",
       "SL_0.0003_RMS_20_RML_100_TP_0.0006             -0.00136  0.0003   20  100   \n",
       "SL_0.0003_RMS_20_RML_100_TP_0.0009             -0.03652  0.0003   20  100   \n",
       "SL_0.0003_RMS_20_RML_100_TP_0.0012             -0.02504  0.0003   20  100   \n",
       "SL_0.0003_RMS_20_RML_100_TP_0.0015             -0.06849  0.0003   20  100   \n",
       "SL_0.0003_RMS_20_RML_150_TP_0.0006             -0.04277  0.0003   20  150   \n",
       "\n",
       "                                    TakeProfit  \n",
       "SL_0.0003_RMS_20_RML_100_TP_0.0006      0.0006  \n",
       "SL_0.0003_RMS_20_RML_100_TP_0.0009      0.0009  \n",
       "SL_0.0003_RMS_20_RML_100_TP_0.0012      0.0012  \n",
       "SL_0.0003_RMS_20_RML_100_TP_0.0015      0.0015  \n",
       "SL_0.0003_RMS_20_RML_150_TP_0.0006      0.0006  "
      ]
     },
     "execution_count": 301,
     "metadata": {},
     "output_type": "execute_result"
    }
   ],
   "source": [
    "#Mostrar Resultados\n",
    "dfRes = pd.DataFrame({'Profit':profit,'Profit Compra-Venta':profit_cv,\n",
    "                      'Profit Venta-Compra':profit_vc,'TH':OrdenTH,\n",
    "                      'RMS':OrdenRMS,'RML':OrdenRML,\n",
    "                      'TakeProfit':OrdenSL}, index = Orden)\n",
    "dfRes.head()"
   ]
  },
  {
   "cell_type": "code",
   "execution_count": 27,
   "metadata": {
    "scrolled": true
   },
   "outputs": [
    {
     "data": {
      "text/html": [
       "<div>\n",
       "<style scoped>\n",
       "    .dataframe tbody tr th:only-of-type {\n",
       "        vertical-align: middle;\n",
       "    }\n",
       "\n",
       "    .dataframe tbody tr th {\n",
       "        vertical-align: top;\n",
       "    }\n",
       "\n",
       "    .dataframe thead th {\n",
       "        text-align: right;\n",
       "    }\n",
       "</style>\n",
       "<table border=\"1\" class=\"dataframe\">\n",
       "  <thead>\n",
       "    <tr style=\"text-align: right;\">\n",
       "      <th></th>\n",
       "      <th>Profit</th>\n",
       "      <th>Profit Compra-Venta</th>\n",
       "      <th>Profit Venta-Compra</th>\n",
       "      <th>TH</th>\n",
       "      <th>RMS</th>\n",
       "      <th>RML</th>\n",
       "      <th>TakeProfit</th>\n",
       "    </tr>\n",
       "  </thead>\n",
       "  <tbody>\n",
       "    <tr>\n",
       "      <th>SL_0.003_RMS_20_RML_150_TP_0.015</th>\n",
       "      <td>2.03587</td>\n",
       "      <td>2.26288</td>\n",
       "      <td>-0.22701</td>\n",
       "      <td>0.003</td>\n",
       "      <td>20</td>\n",
       "      <td>150</td>\n",
       "      <td>0.015</td>\n",
       "    </tr>\n",
       "    <tr>\n",
       "      <th>SL_0.003_RMS_20_RML_100_TP_0.015</th>\n",
       "      <td>2.03041</td>\n",
       "      <td>2.55314</td>\n",
       "      <td>-0.52273</td>\n",
       "      <td>0.003</td>\n",
       "      <td>20</td>\n",
       "      <td>100</td>\n",
       "      <td>0.015</td>\n",
       "    </tr>\n",
       "    <tr>\n",
       "      <th>SL_0.003_RMS_55_RML_100_TP_0.015</th>\n",
       "      <td>1.88459</td>\n",
       "      <td>2.11239</td>\n",
       "      <td>-0.22780</td>\n",
       "      <td>0.003</td>\n",
       "      <td>55</td>\n",
       "      <td>100</td>\n",
       "      <td>0.015</td>\n",
       "    </tr>\n",
       "    <tr>\n",
       "      <th>SL_0.003_RMS_45_RML_100_TP_0.015</th>\n",
       "      <td>1.84363</td>\n",
       "      <td>2.03437</td>\n",
       "      <td>-0.19074</td>\n",
       "      <td>0.003</td>\n",
       "      <td>45</td>\n",
       "      <td>100</td>\n",
       "      <td>0.015</td>\n",
       "    </tr>\n",
       "    <tr>\n",
       "      <th>SL_0.003_RMS_50_RML_100_TP_0.015</th>\n",
       "      <td>1.81376</td>\n",
       "      <td>1.99466</td>\n",
       "      <td>-0.18090</td>\n",
       "      <td>0.003</td>\n",
       "      <td>50</td>\n",
       "      <td>100</td>\n",
       "      <td>0.015</td>\n",
       "    </tr>\n",
       "    <tr>\n",
       "      <th>SL_0.003_RMS_40_RML_100_TP_0.015</th>\n",
       "      <td>1.74463</td>\n",
       "      <td>2.08106</td>\n",
       "      <td>-0.33643</td>\n",
       "      <td>0.003</td>\n",
       "      <td>40</td>\n",
       "      <td>100</td>\n",
       "      <td>0.015</td>\n",
       "    </tr>\n",
       "    <tr>\n",
       "      <th>SL_0.003_RMS_25_RML_100_TP_0.015</th>\n",
       "      <td>1.73770</td>\n",
       "      <td>2.29785</td>\n",
       "      <td>-0.56015</td>\n",
       "      <td>0.003</td>\n",
       "      <td>25</td>\n",
       "      <td>100</td>\n",
       "      <td>0.015</td>\n",
       "    </tr>\n",
       "    <tr>\n",
       "      <th>SL_0.003_RMS_60_RML_100_TP_0.015</th>\n",
       "      <td>1.71626</td>\n",
       "      <td>1.92024</td>\n",
       "      <td>-0.20398</td>\n",
       "      <td>0.003</td>\n",
       "      <td>60</td>\n",
       "      <td>100</td>\n",
       "      <td>0.015</td>\n",
       "    </tr>\n",
       "    <tr>\n",
       "      <th>SL_0.003_RMS_25_RML_150_TP_0.015</th>\n",
       "      <td>1.70517</td>\n",
       "      <td>1.87067</td>\n",
       "      <td>-0.16550</td>\n",
       "      <td>0.003</td>\n",
       "      <td>25</td>\n",
       "      <td>150</td>\n",
       "      <td>0.015</td>\n",
       "    </tr>\n",
       "    <tr>\n",
       "      <th>SL_0.003_RMS_30_RML_150_TP_0.015</th>\n",
       "      <td>1.70120</td>\n",
       "      <td>1.71588</td>\n",
       "      <td>-0.01468</td>\n",
       "      <td>0.003</td>\n",
       "      <td>30</td>\n",
       "      <td>150</td>\n",
       "      <td>0.015</td>\n",
       "    </tr>\n",
       "  </tbody>\n",
       "</table>\n",
       "</div>"
      ],
      "text/plain": [
       "                                   Profit  Profit Compra-Venta  \\\n",
       "SL_0.003_RMS_20_RML_150_TP_0.015  2.03587              2.26288   \n",
       "SL_0.003_RMS_20_RML_100_TP_0.015  2.03041              2.55314   \n",
       "SL_0.003_RMS_55_RML_100_TP_0.015  1.88459              2.11239   \n",
       "SL_0.003_RMS_45_RML_100_TP_0.015  1.84363              2.03437   \n",
       "SL_0.003_RMS_50_RML_100_TP_0.015  1.81376              1.99466   \n",
       "SL_0.003_RMS_40_RML_100_TP_0.015  1.74463              2.08106   \n",
       "SL_0.003_RMS_25_RML_100_TP_0.015  1.73770              2.29785   \n",
       "SL_0.003_RMS_60_RML_100_TP_0.015  1.71626              1.92024   \n",
       "SL_0.003_RMS_25_RML_150_TP_0.015  1.70517              1.87067   \n",
       "SL_0.003_RMS_30_RML_150_TP_0.015  1.70120              1.71588   \n",
       "\n",
       "                                  Profit Venta-Compra     TH  RMS  RML  \\\n",
       "SL_0.003_RMS_20_RML_150_TP_0.015             -0.22701  0.003   20  150   \n",
       "SL_0.003_RMS_20_RML_100_TP_0.015             -0.52273  0.003   20  100   \n",
       "SL_0.003_RMS_55_RML_100_TP_0.015             -0.22780  0.003   55  100   \n",
       "SL_0.003_RMS_45_RML_100_TP_0.015             -0.19074  0.003   45  100   \n",
       "SL_0.003_RMS_50_RML_100_TP_0.015             -0.18090  0.003   50  100   \n",
       "SL_0.003_RMS_40_RML_100_TP_0.015             -0.33643  0.003   40  100   \n",
       "SL_0.003_RMS_25_RML_100_TP_0.015             -0.56015  0.003   25  100   \n",
       "SL_0.003_RMS_60_RML_100_TP_0.015             -0.20398  0.003   60  100   \n",
       "SL_0.003_RMS_25_RML_150_TP_0.015             -0.16550  0.003   25  150   \n",
       "SL_0.003_RMS_30_RML_150_TP_0.015             -0.01468  0.003   30  150   \n",
       "\n",
       "                                  TakeProfit  \n",
       "SL_0.003_RMS_20_RML_150_TP_0.015       0.015  \n",
       "SL_0.003_RMS_20_RML_100_TP_0.015       0.015  \n",
       "SL_0.003_RMS_55_RML_100_TP_0.015       0.015  \n",
       "SL_0.003_RMS_45_RML_100_TP_0.015       0.015  \n",
       "SL_0.003_RMS_50_RML_100_TP_0.015       0.015  \n",
       "SL_0.003_RMS_40_RML_100_TP_0.015       0.015  \n",
       "SL_0.003_RMS_25_RML_100_TP_0.015       0.015  \n",
       "SL_0.003_RMS_60_RML_100_TP_0.015       0.015  \n",
       "SL_0.003_RMS_25_RML_150_TP_0.015       0.015  \n",
       "SL_0.003_RMS_30_RML_150_TP_0.015       0.015  "
      ]
     },
     "execution_count": 27,
     "metadata": {},
     "output_type": "execute_result"
    }
   ],
   "source": [
    "#Visualizar los mejores\n",
    "#Num de mejores a tomar\n",
    "n = 10\n",
    "As = dfRes.sort_values(by=['Profit'], ascending=False).head(n)\n",
    "As"
   ]
  },
  {
   "cell_type": "markdown",
   "metadata": {},
   "source": [
    "### **Probar Resultados**"
   ]
  },
  {
   "cell_type": "code",
   "execution_count": 28,
   "metadata": {},
   "outputs": [],
   "source": [
    "#Transformar datos de prueba\n",
    "data_test = pd.concat([data11,data12])\n",
    "data_test = align2(data_test)"
   ]
  },
  {
   "cell_type": "code",
   "execution_count": 29,
   "metadata": {},
   "outputs": [],
   "source": [
    "#Mejores Valores Obtenidos\n",
    "B_TH = As.TH.values #Threshold (StopLoss)\n",
    "B_RMS = As.RMS.values #Rolling Mean Short\n",
    "B_RML = As.RML.values #Rolling Mean Long\n",
    "B_TP = As.TakeProfit.values/B_TH #Take Profit\n",
    "B_Index = As.index.values"
   ]
  },
  {
   "cell_type": "code",
   "execution_count": 30,
   "metadata": {},
   "outputs": [],
   "source": [
    "#Mejores resultados\n",
    "Best = []\n",
    "for i in range(len(B_TH)):\n",
    "    Best.append(estrategiacomp(data_test, B_TH[i],B_RMS[i],B_RML[i],B_TP[i]))"
   ]
  },
  {
   "cell_type": "code",
   "execution_count": 31,
   "metadata": {},
   "outputs": [],
   "source": [
    "#Mejores resultados\n",
    "Best = []\n",
    "for i in range(len(B_TH)):\n",
    "    Best.append(estrategiaabierta(data_test, B_TH[i],B_RMS[i],B_RML[i],B_TP[i]))"
   ]
  },
  {
   "cell_type": "code",
   "execution_count": 32,
   "metadata": {
    "scrolled": true
   },
   "outputs": [],
   "source": [
    "# Best"
   ]
  },
  {
   "cell_type": "code",
   "execution_count": 33,
   "metadata": {},
   "outputs": [],
   "source": [
    "#Ordenar resultados\n",
    "\n",
    "#Profit compra-venta\n",
    "cv_test = [i[0] for i in Best]\n",
    "\n",
    "#Profit venta en corto\n",
    "vc_test = [i[1] for i in Best]\n",
    "\n",
    "#Profit completo\n",
    "profit_test = [i[2] for i in Best]"
   ]
  },
  {
   "cell_type": "code",
   "execution_count": 34,
   "metadata": {
    "scrolled": true
   },
   "outputs": [
    {
     "data": {
      "text/html": [
       "<div>\n",
       "<style scoped>\n",
       "    .dataframe tbody tr th:only-of-type {\n",
       "        vertical-align: middle;\n",
       "    }\n",
       "\n",
       "    .dataframe tbody tr th {\n",
       "        vertical-align: top;\n",
       "    }\n",
       "\n",
       "    .dataframe thead th {\n",
       "        text-align: right;\n",
       "    }\n",
       "</style>\n",
       "<table border=\"1\" class=\"dataframe\">\n",
       "  <thead>\n",
       "    <tr style=\"text-align: right;\">\n",
       "      <th></th>\n",
       "      <th>Profit</th>\n",
       "      <th>Profit Compra-Venta</th>\n",
       "      <th>Profit Venta-Compra</th>\n",
       "      <th>TH</th>\n",
       "      <th>RMS</th>\n",
       "      <th>RML</th>\n",
       "      <th>TakeProfit</th>\n",
       "    </tr>\n",
       "  </thead>\n",
       "  <tbody>\n",
       "    <tr>\n",
       "      <th>SL_0.003_RMS_20_RML_150_TP_0.015</th>\n",
       "      <td>-0.11058</td>\n",
       "      <td>0.78803</td>\n",
       "      <td>-0.89861</td>\n",
       "      <td>0.003</td>\n",
       "      <td>20</td>\n",
       "      <td>150</td>\n",
       "      <td>0.015</td>\n",
       "    </tr>\n",
       "    <tr>\n",
       "      <th>SL_0.003_RMS_20_RML_100_TP_0.015</th>\n",
       "      <td>-0.31674</td>\n",
       "      <td>0.82559</td>\n",
       "      <td>-1.14233</td>\n",
       "      <td>0.003</td>\n",
       "      <td>20</td>\n",
       "      <td>100</td>\n",
       "      <td>0.015</td>\n",
       "    </tr>\n",
       "    <tr>\n",
       "      <th>SL_0.003_RMS_55_RML_100_TP_0.015</th>\n",
       "      <td>-0.13163</td>\n",
       "      <td>0.77255</td>\n",
       "      <td>-0.90418</td>\n",
       "      <td>0.003</td>\n",
       "      <td>55</td>\n",
       "      <td>100</td>\n",
       "      <td>0.015</td>\n",
       "    </tr>\n",
       "    <tr>\n",
       "      <th>SL_0.003_RMS_45_RML_100_TP_0.015</th>\n",
       "      <td>-0.13541</td>\n",
       "      <td>0.77121</td>\n",
       "      <td>-0.90662</td>\n",
       "      <td>0.003</td>\n",
       "      <td>45</td>\n",
       "      <td>100</td>\n",
       "      <td>0.015</td>\n",
       "    </tr>\n",
       "    <tr>\n",
       "      <th>SL_0.003_RMS_50_RML_100_TP_0.015</th>\n",
       "      <td>-0.12933</td>\n",
       "      <td>0.76117</td>\n",
       "      <td>-0.89050</td>\n",
       "      <td>0.003</td>\n",
       "      <td>50</td>\n",
       "      <td>100</td>\n",
       "      <td>0.015</td>\n",
       "    </tr>\n",
       "    <tr>\n",
       "      <th>SL_0.003_RMS_40_RML_100_TP_0.015</th>\n",
       "      <td>-0.16443</td>\n",
       "      <td>0.73005</td>\n",
       "      <td>-0.89448</td>\n",
       "      <td>0.003</td>\n",
       "      <td>40</td>\n",
       "      <td>100</td>\n",
       "      <td>0.015</td>\n",
       "    </tr>\n",
       "    <tr>\n",
       "      <th>SL_0.003_RMS_25_RML_100_TP_0.015</th>\n",
       "      <td>-0.16667</td>\n",
       "      <td>0.88320</td>\n",
       "      <td>-1.04987</td>\n",
       "      <td>0.003</td>\n",
       "      <td>25</td>\n",
       "      <td>100</td>\n",
       "      <td>0.015</td>\n",
       "    </tr>\n",
       "    <tr>\n",
       "      <th>SL_0.003_RMS_60_RML_100_TP_0.015</th>\n",
       "      <td>-0.14527</td>\n",
       "      <td>0.75865</td>\n",
       "      <td>-0.90392</td>\n",
       "      <td>0.003</td>\n",
       "      <td>60</td>\n",
       "      <td>100</td>\n",
       "      <td>0.015</td>\n",
       "    </tr>\n",
       "    <tr>\n",
       "      <th>SL_0.003_RMS_25_RML_150_TP_0.015</th>\n",
       "      <td>-0.09414</td>\n",
       "      <td>0.73636</td>\n",
       "      <td>-0.83050</td>\n",
       "      <td>0.003</td>\n",
       "      <td>25</td>\n",
       "      <td>150</td>\n",
       "      <td>0.015</td>\n",
       "    </tr>\n",
       "    <tr>\n",
       "      <th>SL_0.003_RMS_30_RML_150_TP_0.015</th>\n",
       "      <td>-0.15740</td>\n",
       "      <td>0.62839</td>\n",
       "      <td>-0.78579</td>\n",
       "      <td>0.003</td>\n",
       "      <td>30</td>\n",
       "      <td>150</td>\n",
       "      <td>0.015</td>\n",
       "    </tr>\n",
       "  </tbody>\n",
       "</table>\n",
       "</div>"
      ],
      "text/plain": [
       "                                   Profit  Profit Compra-Venta  \\\n",
       "SL_0.003_RMS_20_RML_150_TP_0.015 -0.11058              0.78803   \n",
       "SL_0.003_RMS_20_RML_100_TP_0.015 -0.31674              0.82559   \n",
       "SL_0.003_RMS_55_RML_100_TP_0.015 -0.13163              0.77255   \n",
       "SL_0.003_RMS_45_RML_100_TP_0.015 -0.13541              0.77121   \n",
       "SL_0.003_RMS_50_RML_100_TP_0.015 -0.12933              0.76117   \n",
       "SL_0.003_RMS_40_RML_100_TP_0.015 -0.16443              0.73005   \n",
       "SL_0.003_RMS_25_RML_100_TP_0.015 -0.16667              0.88320   \n",
       "SL_0.003_RMS_60_RML_100_TP_0.015 -0.14527              0.75865   \n",
       "SL_0.003_RMS_25_RML_150_TP_0.015 -0.09414              0.73636   \n",
       "SL_0.003_RMS_30_RML_150_TP_0.015 -0.15740              0.62839   \n",
       "\n",
       "                                  Profit Venta-Compra     TH  RMS  RML  \\\n",
       "SL_0.003_RMS_20_RML_150_TP_0.015             -0.89861  0.003   20  150   \n",
       "SL_0.003_RMS_20_RML_100_TP_0.015             -1.14233  0.003   20  100   \n",
       "SL_0.003_RMS_55_RML_100_TP_0.015             -0.90418  0.003   55  100   \n",
       "SL_0.003_RMS_45_RML_100_TP_0.015             -0.90662  0.003   45  100   \n",
       "SL_0.003_RMS_50_RML_100_TP_0.015             -0.89050  0.003   50  100   \n",
       "SL_0.003_RMS_40_RML_100_TP_0.015             -0.89448  0.003   40  100   \n",
       "SL_0.003_RMS_25_RML_100_TP_0.015             -1.04987  0.003   25  100   \n",
       "SL_0.003_RMS_60_RML_100_TP_0.015             -0.90392  0.003   60  100   \n",
       "SL_0.003_RMS_25_RML_150_TP_0.015             -0.83050  0.003   25  150   \n",
       "SL_0.003_RMS_30_RML_150_TP_0.015             -0.78579  0.003   30  150   \n",
       "\n",
       "                                  TakeProfit  \n",
       "SL_0.003_RMS_20_RML_150_TP_0.015       0.015  \n",
       "SL_0.003_RMS_20_RML_100_TP_0.015       0.015  \n",
       "SL_0.003_RMS_55_RML_100_TP_0.015       0.015  \n",
       "SL_0.003_RMS_45_RML_100_TP_0.015       0.015  \n",
       "SL_0.003_RMS_50_RML_100_TP_0.015       0.015  \n",
       "SL_0.003_RMS_40_RML_100_TP_0.015       0.015  \n",
       "SL_0.003_RMS_25_RML_100_TP_0.015       0.015  \n",
       "SL_0.003_RMS_60_RML_100_TP_0.015       0.015  \n",
       "SL_0.003_RMS_25_RML_150_TP_0.015       0.015  \n",
       "SL_0.003_RMS_30_RML_150_TP_0.015       0.015  "
      ]
     },
     "execution_count": 34,
     "metadata": {},
     "output_type": "execute_result"
    }
   ],
   "source": [
    "#Mostrar Resultados\n",
    "dfBest = pd.DataFrame({'Profit':profit_test,'Profit Compra-Venta':cv_test,\n",
    "                       'Profit Venta-Compra':vc_test,\n",
    "                       'TH':B_TH,'RMS':B_RMS,'RML':B_RML,\n",
    "                       'TakeProfit':B_TP*B_TH}, index = B_Index)\n",
    "dfBest"
   ]
  },
  {
   "cell_type": "code",
   "execution_count": 233,
   "metadata": {},
   "outputs": [
    {
     "data": {
      "text/plain": [
       "(5.164790000000009, -6.625169999999997, -1.4603799999999882)"
      ]
     },
     "execution_count": 233,
     "metadata": {},
     "output_type": "execute_result"
    }
   ],
   "source": [
    "estrategiaabierta(data_test, 0.004,10,150,5)"
   ]
  },
  {
   "cell_type": "code",
   "execution_count": 63,
   "metadata": {},
   "outputs": [
    {
     "data": {
      "text/plain": [
       "(23.219709999999978, -11.294880000000045, 11.924829999999933)"
      ]
     },
     "execution_count": 63,
     "metadata": {},
     "output_type": "execute_result"
    }
   ],
   "source": [
    "# estrategiaabierta(data, 0.003,10,15,10)"
   ]
  },
  {
   "cell_type": "code",
   "execution_count": 36,
   "metadata": {},
   "outputs": [
    {
     "data": {
      "image/png": "[encoded data removed]",
      "text/plain": [
       "<Figure size 864x360 with 1 Axes>"
      ]
     },
     "metadata": {
      "needs_background": "light"
     },
     "output_type": "display_data"
    }
   ],
   "source": [
    "#Graficar los datos\n",
    "plt.figure(figsize=(12,5))\n",
    "\n",
    "#plt.scatter(c, data2.Close.values[c], color='darkblue')\n",
    "#plt.scatter(d, data2.Close.values[d], color='darkgreen')\n",
    "plt.plot(data_test.Close.values,label='EURSD',color='lightblue')\n",
    "plt.plot(data_test.Close.rolling(10).mean().values,label='RMS',color='darkgreen')\n",
    "plt.plot(data_test.Close.ewm(span=10, adjust=False).mean().values,color='steelblue')\n",
    "plt.plot(data_test.Close.rolling(15).mean().values,label='RML',color='darkblue')\n",
    "\n",
    "plt.title('EUR/USD Closes',fontdict={'weight':'bold','fontsize':'18'})\n",
    "plt.xticks(rotation=45)\n",
    "plt.xlabel('Time')\n",
    "plt.ylabel('Price')\n",
    "\n",
    "\n",
    "plt.legend()\n",
    "plt.xlim(50000,50050)\n",
    "plt.ylim(1.2204,1.222)\n",
    "\n",
    "plt.show()"
   ]
  },
  {
   "cell_type": "code",
   "execution_count": null,
   "metadata": {},
   "outputs": [],
   "source": []
  },
  {
   "cell_type": "markdown",
   "metadata": {},
   "source": [
    "### **Segundos Parámetros**"
   ]
  },
  {
   "cell_type": "code",
   "execution_count": 37,
   "metadata": {},
   "outputs": [
    {
     "data": {
      "text/plain": [
       "720"
      ]
     },
     "execution_count": 37,
     "metadata": {},
     "output_type": "execute_result"
    }
   ],
   "source": [
    "#Multiples backtestings\n",
    "#Datos a tomar\n",
    "#data\n",
    "\n",
    "#Threshold / StopLoss\n",
    "TH_2 = np.arange(0.003,0.006,0.0005)\n",
    "\n",
    "#Rolling Mean Short\n",
    "RMS_2 = np.arange(10,50,10).astype(int)\n",
    "\n",
    "#Rolling Mean long\n",
    "RML_2 = np.arange(100,400,50).astype(int)\n",
    "\n",
    "#Multiplicador de StopLoss para TakeProfit\n",
    "M_2 = np.arange(2,7,1).astype(int)\n",
    "\n",
    "#Orden y valores\n",
    "#índice\n",
    "Orden2 = ['SL_%s'%round(a,5)+'_RMS_%s'%b+'_RML_%s'%c+'_TP_%s'%round((a*m),5) for a in TH_2\n",
    "          for b in RMS_2 for c in RML_2 for m in M_2]\n",
    "\n",
    "#TH\n",
    "OrdenTH2 = [a for a in TH_2 for b in RMS_2 for c in RML_2 for m in M_2]\n",
    "\n",
    "#RMS\n",
    "OrdenRMS2 = [b for a in TH_2 for b in RMS_2 for c in RML_2 for m in M_2]\n",
    "\n",
    "#RML\n",
    "OrdenRML2 = [c for a in TH_2 for b in RMS_2 for c in RML_2 for m in M_2]\n",
    "\n",
    "#StopLoss\n",
    "OrdenSL2 = [round((a*m),5) for a in TH_2 for b in RMS_2 for c in RML_2 for m in M_2]\n",
    "\n",
    "#Número de iteraciones\n",
    "len(TH_2)*len(RMS_2)*len(RML_2)*len(M_2)"
   ]
  },
  {
   "cell_type": "code",
   "execution_count": null,
   "metadata": {},
   "outputs": [],
   "source": [
    "# #Estructura abierta\n",
    "# start = time.time()\n",
    "# Res2 = [estrategiaabierta(data,a,b,c,m) for a in TH_2 for b in RMS_2 for c in RML_2 for m in M_2]\n",
    "# end = time.time()\n",
    "# print(end - start)"
   ]
  },
  {
   "cell_type": "code",
   "execution_count": null,
   "metadata": {},
   "outputs": [],
   "source": [
    "#estrategiaabierta(data,a,b,c,m)"
   ]
  },
  {
   "cell_type": "code",
   "execution_count": null,
   "metadata": {},
   "outputs": [],
   "source": [
    "#Guardar resultados\n",
    "#pickle.dump(Res2,open('Res2.sav','wb'))\n",
    "\n",
    "#Cargar resultados\n",
    "#Res2 = pickle.load(open('Res2.sav', 'rb'))"
   ]
  },
  {
   "cell_type": "code",
   "execution_count": null,
   "metadata": {},
   "outputs": [],
   "source": [
    "# #Ordenar resultados\n",
    "\n",
    "# #Profit compra-venta\n",
    "# profit_cv2 = [i[0] for i in Res2]\n",
    "\n",
    "# #Profit venta en corto\n",
    "# profit_vc2 = [i[1] for i in Res2]\n",
    "\n",
    "# #Profit completo\n",
    "# profit2 = [i[2] for i in Res2]"
   ]
  },
  {
   "cell_type": "code",
   "execution_count": 38,
   "metadata": {},
   "outputs": [],
   "source": [
    "# #Mostrar Resultados\n",
    "# dfRes2 = pd.DataFrame({'Profit':profit2,'Profit Compra-Venta':profit_cv2,\n",
    "#                       'Profit Venta-Compra':profit_vc2,'TH':OrdenTH2,\n",
    "#                       'RMS':OrdenRMS2,'RML':OrdenRML2,\n",
    "#                       'TakeProfit':OrdenSL2}, index = Orden2)\n",
    "# dfRes2.head()"
   ]
  },
  {
   "cell_type": "markdown",
   "metadata": {},
   "source": [
    "### **Corroborar**"
   ]
  },
  {
   "cell_type": "code",
   "execution_count": 47,
   "metadata": {},
   "outputs": [],
   "source": [
    "# TH = .003\n",
    "# RMS = 10\n",
    "# RML = 15\n",
    "# M = 10\n",
    "\n",
    "# #Estrategia Completa\n",
    "# data2 = pd.DataFrame(data['Close'])\n",
    "# data2['RMShort'] = data2.Close.rolling(RMS).mean()\n",
    "# data2['RMSLong'] = data2.Close.rolling(RML).mean()\n",
    "# M_TH = M*TH\n",
    "# a = [1 if i>0 else 0 for i in data2.RMShort-data2.RMSLong]\n",
    "\n",
    "# c = []\n",
    "# d = []\n",
    "# for k in range(1,len(data2)):\n",
    "#     if a[k] > a[k-1]:\n",
    "#         c.append(k)\n",
    "#     elif a[k] < a[k-1]:\n",
    "#         d.append(k)\n",
    "\n",
    "# c_ = c[1:]\n",
    "# d_ = d\n",
    "\n",
    "# #Compra a Venta\n",
    "# for i in range(len(d)):\n",
    "#     series = np.array(data2.Close[c[i]:d[i]+1])\n",
    "#     for k in range(len(series)):\n",
    "#         if series[0] - series[k] >= TH or series[k] - series[0] >= M_TH:\n",
    "#             d[i] = d[i] - (len(series)-k-1)\n",
    "#             break\n",
    "\n",
    "# Compra = data2.Close[c].values\n",
    "# Venta = data2.Close[d].values\n",
    "\n",
    "# x = (Venta - Compra[:len(Venta)])\n",
    "\n",
    "# #Venta Rápida\n",
    "# for i in range(len(d_)-1):\n",
    "#     series_ = np.array(data2.Close[d_[i]:c_[i]+1])\n",
    "#     for k in range(len(series_)):\n",
    "#         if series_[k] - series_[0] >= TH or series_[0] - series_[k] >= M_TH:\n",
    "#             c_[i] = c_[i] - (len(series_)-k-1)\n",
    "#             break\n",
    "\n",
    "# Compra_ = data2.Close[c_].values\n",
    "# Venta_ = data2.Close[d_].values\n",
    "\n",
    "# y = (Venta_[:len(Compra_)] - Compra_)\n",
    "\n",
    "\n",
    "# profit_compras = x.sum()\n",
    "# profit_ventas = y.sum()\n",
    "\n",
    "# profit = profit_compras + profit_ventas"
   ]
  },
  {
   "cell_type": "code",
   "execution_count": 241,
   "metadata": {},
   "outputs": [
    {
     "data": {
      "text/html": [
       "<div>\n",
       "<style scoped>\n",
       "    .dataframe tbody tr th:only-of-type {\n",
       "        vertical-align: middle;\n",
       "    }\n",
       "\n",
       "    .dataframe tbody tr th {\n",
       "        vertical-align: top;\n",
       "    }\n",
       "\n",
       "    .dataframe thead th {\n",
       "        text-align: right;\n",
       "    }\n",
       "</style>\n",
       "<table border=\"1\" class=\"dataframe\">\n",
       "  <thead>\n",
       "    <tr style=\"text-align: right;\">\n",
       "      <th></th>\n",
       "      <th>Open</th>\n",
       "      <th>High</th>\n",
       "      <th>Low</th>\n",
       "      <th>Close</th>\n",
       "    </tr>\n",
       "    <tr>\n",
       "      <th>Time</th>\n",
       "      <th></th>\n",
       "      <th></th>\n",
       "      <th></th>\n",
       "      <th></th>\n",
       "    </tr>\n",
       "  </thead>\n",
       "  <tbody>\n",
       "    <tr>\n",
       "      <th>2020-01-01 17:00:00</th>\n",
       "      <td>1.12120</td>\n",
       "      <td>1.12121</td>\n",
       "      <td>1.12117</td>\n",
       "      <td>1.12120</td>\n",
       "    </tr>\n",
       "    <tr>\n",
       "      <th>2020-01-01 17:01:00</th>\n",
       "      <td>1.12106</td>\n",
       "      <td>1.12135</td>\n",
       "      <td>1.12106</td>\n",
       "      <td>1.12135</td>\n",
       "    </tr>\n",
       "    <tr>\n",
       "      <th>2020-01-01 17:02:00</th>\n",
       "      <td>1.12136</td>\n",
       "      <td>1.12139</td>\n",
       "      <td>1.12136</td>\n",
       "      <td>1.12139</td>\n",
       "    </tr>\n",
       "    <tr>\n",
       "      <th>2020-01-01 17:03:00</th>\n",
       "      <td>1.12135</td>\n",
       "      <td>1.12135</td>\n",
       "      <td>1.12120</td>\n",
       "      <td>1.12122</td>\n",
       "    </tr>\n",
       "    <tr>\n",
       "      <th>2020-01-01 17:04:00</th>\n",
       "      <td>1.12122</td>\n",
       "      <td>1.12125</td>\n",
       "      <td>1.12122</td>\n",
       "      <td>1.12125</td>\n",
       "    </tr>\n",
       "    <tr>\n",
       "      <th>...</th>\n",
       "      <td>...</td>\n",
       "      <td>...</td>\n",
       "      <td>...</td>\n",
       "      <td>...</td>\n",
       "    </tr>\n",
       "    <tr>\n",
       "      <th>2020-10-30 15:54:00</th>\n",
       "      <td>1.16463</td>\n",
       "      <td>1.16478</td>\n",
       "      <td>1.16463</td>\n",
       "      <td>1.16463</td>\n",
       "    </tr>\n",
       "    <tr>\n",
       "      <th>2020-10-30 15:55:00</th>\n",
       "      <td>1.16464</td>\n",
       "      <td>1.16468</td>\n",
       "      <td>1.16456</td>\n",
       "      <td>1.16460</td>\n",
       "    </tr>\n",
       "    <tr>\n",
       "      <th>2020-10-30 15:56:00</th>\n",
       "      <td>1.16460</td>\n",
       "      <td>1.16465</td>\n",
       "      <td>1.16448</td>\n",
       "      <td>1.16452</td>\n",
       "    </tr>\n",
       "    <tr>\n",
       "      <th>2020-10-30 15:57:00</th>\n",
       "      <td>1.16452</td>\n",
       "      <td>1.16454</td>\n",
       "      <td>1.16444</td>\n",
       "      <td>1.16448</td>\n",
       "    </tr>\n",
       "    <tr>\n",
       "      <th>2020-10-30 15:58:00</th>\n",
       "      <td>1.16449</td>\n",
       "      <td>1.16453</td>\n",
       "      <td>1.16446</td>\n",
       "      <td>1.16449</td>\n",
       "    </tr>\n",
       "  </tbody>\n",
       "</table>\n",
       "<p>311314 rows × 4 columns</p>\n",
       "</div>"
      ],
      "text/plain": [
       "                        Open     High      Low    Close\n",
       "Time                                                   \n",
       "2020-01-01 17:00:00  1.12120  1.12121  1.12117  1.12120\n",
       "2020-01-01 17:01:00  1.12106  1.12135  1.12106  1.12135\n",
       "2020-01-01 17:02:00  1.12136  1.12139  1.12136  1.12139\n",
       "2020-01-01 17:03:00  1.12135  1.12135  1.12120  1.12122\n",
       "2020-01-01 17:04:00  1.12122  1.12125  1.12122  1.12125\n",
       "...                      ...      ...      ...      ...\n",
       "2020-10-30 15:54:00  1.16463  1.16478  1.16463  1.16463\n",
       "2020-10-30 15:55:00  1.16464  1.16468  1.16456  1.16460\n",
       "2020-10-30 15:56:00  1.16460  1.16465  1.16448  1.16452\n",
       "2020-10-30 15:57:00  1.16452  1.16454  1.16444  1.16448\n",
       "2020-10-30 15:58:00  1.16449  1.16453  1.16446  1.16449\n",
       "\n",
       "[311314 rows x 4 columns]"
      ]
     },
     "execution_count": 241,
     "metadata": {},
     "output_type": "execute_result"
    }
   ],
   "source": [
    "data[data.index.month>3"
   ]
  },
  {
   "cell_type": "code",
   "execution_count": 313,
   "metadata": {},
   "outputs": [],
   "source": [
    "TH = .003\n",
    "RMS = 10\n",
    "RML = 15\n",
    "M = 5\n",
    "\n",
    "# data2 = pd.DataFrame(data_test)\n",
    "data2 = pd.DataFrame(data[(data.index.month>2) & (data.index.month<5)])\n",
    "#Estrategia Abierta\n",
    "#data2 = pd.DataFrame(data)\n",
    "data2['RMShort'] = data2.Close.rolling(RMS).mean()\n",
    "data2['RMSLong'] = data2.Close.rolling(RML).mean()\n",
    "data2 = data2.dropna()\n",
    "M_TH = M*TH\n",
    "a = [1 if i>0 else 0 for i in data2.RMShort-data2.RMSLong]\n",
    "\n",
    "c = []\n",
    "d = []\n",
    "for k in range(1,len(data2)):\n",
    "    if a[k] > a[k-1]:\n",
    "        c.append(k)\n",
    "    elif a[k] < a[k-1]:\n",
    "        d.append(k)\n",
    "        \n",
    "series = []   \n",
    "serieshigh = []\n",
    "serieslow = []\n",
    "for i in range(len(c)):\n",
    "    series.append(np.array(data2.Close[c[i]:]))\n",
    "    serieshigh.append(np.array(data2.High[c[i]:]))\n",
    "    serieslow.append(np.array(data2.Low[c[i]:])) \n",
    "\n",
    "# Compra = data2.Close[c].values\n",
    "# Venta = [next((x for x in xs if xs[0] - x >= TH or x - xs[0] >= M_TH),xs[0])for xs in series]\n",
    "Venta = []\n",
    "for i in range(len(series)):\n",
    "    for j in range(len(series[i])):\n",
    "        #Toca el StopLoss\n",
    "        if series[i][0] - serieslow[i][j] >= TH:\n",
    "            Venta.append(-TH) \n",
    "            break\n",
    "        #Toca el TakeProfit\n",
    "        elif serieshigh[i][j] - series[i][0] >= M_TH:\n",
    "            Venta.append(M_TH)\n",
    "            break\n",
    "    #No toca ninguno\n",
    "    if len(vv) < i+1:\n",
    "        Venta.append(0)\n",
    "        \n",
    "#Profit Compra-Venta\n",
    "x = np.array(Venta)\n",
    "    \n",
    "# series_ = []\n",
    "# serieshigh_ = []\n",
    "# serieslow_ = []\n",
    "# for i in range(len(d)):\n",
    "#     series_.append(np.array(data2.Close[d[i]:]))\n",
    "#     serieshigh_.append(np.array(data2.High[d[i]:]))\n",
    "#     serieslow_.append(np.array(data2.Low[d[i]:])) \n",
    "    \n",
    "# Compra_ = [next((x for x in xs if x - xs[0] >= TH or xs[0] - x >= M_TH),xs[0])for xs in series_]\n",
    "# Venta_ = data2.Close[d].values\n",
    "# #Profit Venta en Corto\n",
    "# y = (Venta_[:len(Compra_)] - Compra_)\n",
    "\n",
    "profit_compras = x.sum()\n",
    "# profit_ventas = y.sum()\n",
    "# profit = profit_compras + profit_ventas"
   ]
  },
  {
   "cell_type": "code",
   "execution_count": 288,
   "metadata": {},
   "outputs": [],
   "source": [
    "posventa = []\n",
    "for i in range(len(series)):\n",
    "    for j in range(len(series[i])):\n",
    "        #Toca el StopLoss\n",
    "        if series[i][0] - serieslow[i][j] >= TH:\n",
    "            posventa.append(j) \n",
    "            break\n",
    "        #Toca el TakeProfit\n",
    "        elif serieshigh[i][j] - series[i][0] >= M_TH:\n",
    "            posventa.append(j)\n",
    "            break\n",
    "    #No toca ninguno\n",
    "    if len(posventa) < i+1:\n",
    "        posventa.append(0)"
   ]
  },
  {
   "cell_type": "code",
   "execution_count": 314,
   "metadata": {},
   "outputs": [
    {
     "data": {
      "text/plain": [
       "0.6060000000000005"
      ]
     },
     "execution_count": 314,
     "metadata": {},
     "output_type": "execute_result"
    }
   ],
   "source": [
    "profit_compras"
   ]
  },
  {
   "cell_type": "code",
   "execution_count": 290,
   "metadata": {},
   "outputs": [
    {
     "data": {
      "text/plain": [
       "(2312, 2312)"
      ]
     },
     "execution_count": 290,
     "metadata": {},
     "output_type": "execute_result"
    }
   ],
   "source": [
    "len(c),len(posventa)"
   ]
  },
  {
   "cell_type": "code",
   "execution_count": 303,
   "metadata": {},
   "outputs": [],
   "source": [
    "pos_venta = (np.array(c) + np.array(posventa))"
   ]
  },
  {
   "cell_type": "code",
   "execution_count": 304,
   "metadata": {},
   "outputs": [],
   "source": [
    "#Posiciones de trades ganados y perdidos\n",
    "ventaperdidos = [i for i in range(len(Venta)) if Venta[i]<0] \n",
    "ventaganados = [i for i in range(len(Venta)) if Venta[i]>0]"
   ]
  },
  {
   "cell_type": "code",
   "execution_count": 293,
   "metadata": {},
   "outputs": [
    {
     "data": {
      "text/plain": [
       "(56101, 56122, 2087)"
      ]
     },
     "execution_count": 293,
     "metadata": {},
     "output_type": "execute_result"
    }
   ],
   "source": [
    "pos_venta[-1], len(data2), ventaperdidos[-1]"
   ]
  },
  {
   "cell_type": "code",
   "execution_count": 305,
   "metadata": {},
   "outputs": [
    {
     "data": {
      "text/plain": [
       "(2312, 2087)"
      ]
     },
     "execution_count": 305,
     "metadata": {},
     "output_type": "execute_result"
    }
   ],
   "source": [
    "len(posventa), ventaperdidos[-1]"
   ]
  },
  {
   "cell_type": "code",
   "execution_count": 310,
   "metadata": {},
   "outputs": [
    {
     "data": {
      "image/png": "[encoded data removed]",
      "text/plain": [
       "<Figure size 864x360 with 1 Axes>"
      ]
     },
     "metadata": {
      "needs_background": "light"
     },
     "output_type": "display_data"
    }
   ],
   "source": [
    "xmin = 8000\n",
    "xmax = 10000\n",
    "valmin = data2.index[xmin]\n",
    "valmax =  data2.index[xmax]\n",
    "ymin = data2.Close[xmin:xmax+1].min()\n",
    "ymax = data2.Close[xmin:xmax+1].max()\n",
    "plt.figure(figsize=(12,5))\n",
    "#Trades Iniciados\n",
    "plt.scatter(data2.index[c],data2.Close[c],c='k', s=5, alpha = 1, label = 'TradesIniciados')\n",
    "#Trades Perdidos\n",
    "plt.scatter(data2.index[pos_venta[ventaperdidos]], data2.Close[pos_venta[ventaperdidos]],c='deeppink',s=5,alpha=1, label='TradesPerdidos')\n",
    "#Trades Ganados\n",
    "plt.scatter(data2.index[pos_venta[ventaganados]], data2.Close[pos_venta[ventaganados]],c='greenyellow',s=5,alpha=1, label='TradesGanados')\n",
    "#SMA 10 min\n",
    "plt.plot(data2.Close.rolling(10).mean(),label='SMA10',color='goldenrod', alpha=0.7)\n",
    "#SMA 15 min\n",
    "plt.plot(data2.Close.rolling(15).mean(),label='SMA15',color='darkblue', alpha=0.5)\n",
    "#Cierres reales\n",
    "plt.plot(data2.Close, c='cyan', alpha = 0.3, label='Cierres')\n",
    "plt.xlim(valmin,valmax)\n",
    "plt.ylim(ymin,ymax)\n",
    "plt.legend()\n",
    "plt.show()"
   ]
  },
  {
   "cell_type": "code",
   "execution_count": 180,
   "metadata": {},
   "outputs": [
    {
     "data": {
      "text/plain": [
       "18.055555555555554"
      ]
     },
     "execution_count": 180,
     "metadata": {},
     "output_type": "execute_result"
    }
   ],
   "source": [
    "26000/60/24"
   ]
  },
  {
   "cell_type": "code",
   "execution_count": 312,
   "metadata": {},
   "outputs": [
    {
     "data": {
      "text/plain": [
       "<matplotlib.axes._subplots.AxesSubplot at 0x1ce3cb84910>"
      ]
     },
     "execution_count": 312,
     "metadata": {},
     "output_type": "execute_result"
    },
    {
     "data": {
      "image/png": "[encoded data removed]",
      "text/plain": [
       "<Figure size 864x360 with 1 Axes>"
      ]
     },
     "metadata": {
      "needs_background": "light"
     },
     "output_type": "display_data"
    }
   ],
   "source": [
    "data[(data.index.month>2) & (data.index.month<5)].plot(figsize=(12,5))"
   ]
  },
  {
   "cell_type": "code",
   "execution_count": 249,
   "metadata": {},
   "outputs": [
    {
     "data": {
      "text/plain": [
       "<matplotlib.axes._subplots.AxesSubplot at 0x1ce37bb7220>"
      ]
     },
     "execution_count": 249,
     "metadata": {},
     "output_type": "execute_result"
    },
    {
     "data": {
      "image/png": "[encoded data removed]",
      "text/plain": [
       "<Figure size 864x360 with 1 Axes>"
      ]
     },
     "metadata": {
      "needs_background": "light"
     },
     "output_type": "display_data"
    }
   ],
   "source": [
    "data.plot(figsize=(12,5))"
   ]
  },
  {
   "cell_type": "code",
   "execution_count": 153,
   "metadata": {},
   "outputs": [
    {
     "data": {
      "text/plain": [
       "(1.16326, 1.19331, 0.030050000000000132)"
      ]
     },
     "execution_count": 153,
     "metadata": {},
     "output_type": "execute_result"
    }
   ],
   "source": [
    "data2.Close.values[410],data2.Close.values[26293],data2.Close.values[26293] - data2.Close.values[410]"
   ]
  },
  {
   "cell_type": "code",
   "execution_count": 165,
   "metadata": {},
   "outputs": [
    {
     "data": {
      "text/plain": [
       "array([1.16326, 1.16335, 1.16341, ..., 1.19283, 1.19285, 1.19331])"
      ]
     },
     "execution_count": 165,
     "metadata": {},
     "output_type": "execute_result"
    }
   ],
   "source": [
    "data2.Close.values[410:26294]"
   ]
  },
  {
   "cell_type": "code",
   "execution_count": 164,
   "metadata": {},
   "outputs": [
    {
     "data": {
      "text/plain": [
       "array([1.16329, 1.16336, 1.16345, ..., 1.19288, 1.19286, 1.19337])"
      ]
     },
     "execution_count": 164,
     "metadata": {},
     "output_type": "execute_result"
    }
   ],
   "source": [
    "data2.High.values[410:26294]"
   ]
  },
  {
   "cell_type": "code",
   "execution_count": 130,
   "metadata": {},
   "outputs": [
    {
     "data": {
      "text/plain": [
       "array([-0.003, -0.003, -0.003, -0.003, -0.003, -0.003, -0.003, -0.003,\n",
       "       -0.003, -0.003, -0.003, -0.003, -0.003, -0.003, -0.003, -0.003,\n",
       "       -0.003, -0.003,  0.03 , -0.003, -0.003, -0.003, -0.003, -0.003,\n",
       "       -0.003, -0.003, -0.003, -0.003, -0.003,  0.03 ,  0.03 , -0.003,\n",
       "       -0.003, -0.003, -0.003, -0.003, -0.003, -0.003, -0.003, -0.003,\n",
       "       -0.003, -0.003, -0.003,  0.03 , -0.003, -0.003,  0.03 , -0.003,\n",
       "       -0.003, -0.003,  0.03 ,  0.03 ,  0.03 ,  0.03 ,  0.03 ,  0.03 ,\n",
       "       -0.003, -0.003, -0.003, -0.003, -0.003, -0.003, -0.003, -0.003,\n",
       "       -0.003, -0.003, -0.003, -0.003, -0.003, -0.003, -0.003, -0.003,\n",
       "       -0.003, -0.003, -0.003, -0.003, -0.003, -0.003, -0.003, -0.003,\n",
       "       -0.003, -0.003, -0.003, -0.003, -0.003, -0.003, -0.003, -0.003,\n",
       "       -0.003, -0.003, -0.003, -0.003, -0.003, -0.003, -0.003, -0.003,\n",
       "       -0.003, -0.003, -0.003, -0.003])"
      ]
     },
     "execution_count": 130,
     "metadata": {},
     "output_type": "execute_result"
    }
   ],
   "source": [
    "x[:100]"
   ]
  },
  {
   "cell_type": "code",
   "execution_count": 114,
   "metadata": {},
   "outputs": [
    {
     "data": {
      "text/plain": [
       "array([ 3131,  3131,  3131,  3131,  3131,  3131,  3131,  3131,  3131,\n",
       "        3131,  3131,  3131,  3131,  3131,  3131,  3131,  3132,  3132,\n",
       "       26293,  3132,  3132,  3131,  3132,  3131,  3131,  3131,  3131,\n",
       "        3132,  3132, 24983, 24983,  3131,  3131,  3131,  3131,  3131,\n",
       "        3130,  1172,  3131,  3131,  3131,  3131,  3132, 26293,  3132,\n",
       "        3132, 24983,  3132,  3131,  3132, 26293, 26293, 24983, 24983,\n",
       "       24983, 24983,  3132,  3132,  3132,  3132,  3131,  3131,  3131,\n",
       "        3131,  3131,  3131,  3131,  3131,  3131,  3131,  3131,  3131,\n",
       "        3131,  3131,  3130,  3131,  3130,  3130,  3130,  3130,  3130,\n",
       "        3130,  3130,  3130,  3120,  3120,  3120,  3113,  3113,  3113,\n",
       "        3113,  3112,  3112,  3109,  3109,  3109,  3109,  3109,  3056,\n",
       "        3056])"
      ]
     },
     "execution_count": 114,
     "metadata": {},
     "output_type": "execute_result"
    }
   ],
   "source": [
    "pos_venta[:100]"
   ]
  },
  {
   "cell_type": "code",
   "execution_count": 41,
   "metadata": {},
   "outputs": [],
   "source": [
    "a_ = []   \n",
    "b_ = []\n",
    "c_ = []\n",
    "for i in range(len(c)):\n",
    "    a_.append(np.array(data2.Close[c[i]:]))\n",
    "    b_.append(np.array(data2.High[c[i]:]))\n",
    "    c_.append(np.array(data2.Low[c[i]:])) "
   ]
  },
  {
   "cell_type": "code",
   "execution_count": 66,
   "metadata": {},
   "outputs": [],
   "source": [
    "vv = []\n",
    "M_TH = M*TH\n",
    "for i in range(len(a_)):\n",
    "    for j in range(len(a_[i])):\n",
    "        #Toca el StopLoss\n",
    "        if a_[i][0] - c_[i][j] >= TH:\n",
    "            vv.append(-TH) \n",
    "            break\n",
    "        #Toca el TakeProfit\n",
    "        elif b_[i][j] - a_[i][0] >= M_TH:\n",
    "            vv.append(M_TH)\n",
    "            break\n",
    "    #No toca ninguno\n",
    "    if len(vv) < i+1:\n",
    "        vv.append(0)"
   ]
  },
  {
   "cell_type": "code",
   "execution_count": 67,
   "metadata": {},
   "outputs": [
    {
     "data": {
      "text/plain": [
       "array([1.16445, 1.16446, 1.16447, ..., 1.21938, 1.21942, 1.21922])"
      ]
     },
     "execution_count": 67,
     "metadata": {},
     "output_type": "execute_result"
    }
   ],
   "source": [
    "Compra"
   ]
  },
  {
   "cell_type": "code",
   "execution_count": 83,
   "metadata": {},
   "outputs": [
    {
     "data": {
      "text/plain": [
       "9.459000000000001"
      ]
     },
     "execution_count": 83,
     "metadata": {},
     "output_type": "execute_result"
    }
   ],
   "source": [
    "np.array(vv).sum()"
   ]
  },
  {
   "cell_type": "code",
   "execution_count": 68,
   "metadata": {},
   "outputs": [
    {
     "data": {
      "text/plain": [
       "(2312, 2312)"
      ]
     },
     "execution_count": 68,
     "metadata": {},
     "output_type": "execute_result"
    }
   ],
   "source": [
    "len(Compra),len(vv)"
   ]
  },
  {
   "cell_type": "code",
   "execution_count": 57,
   "metadata": {},
   "outputs": [
    {
     "data": {
      "text/plain": [
       "2312"
      ]
     },
     "execution_count": 57,
     "metadata": {},
     "output_type": "execute_result"
    }
   ],
   "source": [
    "len(a_)"
   ]
  },
  {
   "cell_type": "code",
   "execution_count": 47,
   "metadata": {},
   "outputs": [
    {
     "data": {
      "text/plain": [
       "array([1.16445, 1.16439, 1.16428, ..., 1.21922, 1.21922, 1.21922])"
      ]
     },
     "execution_count": 47,
     "metadata": {},
     "output_type": "execute_result"
    }
   ],
   "source": [
    "a_[0]"
   ]
  },
  {
   "cell_type": "code",
   "execution_count": 68,
   "metadata": {},
   "outputs": [
    {
     "data": {
      "text/plain": [
       "0.00800999999999985"
      ]
     },
     "execution_count": 68,
     "metadata": {},
     "output_type": "execute_result"
    }
   ],
   "source": [
    "(data['High']- data['Low']).max()"
   ]
  },
  {
   "cell_type": "code",
   "execution_count": 55,
   "metadata": {},
   "outputs": [],
   "source": [
    "indexventa = [list(series[i]).index(Venta[i]) for i in range(len(series))]"
   ]
  },
  {
   "cell_type": "code",
   "execution_count": 43,
   "metadata": {},
   "outputs": [],
   "source": [
    "indexcompra = [list(series_[i]).index(Compra_[i]) for i in range(len(series_))]"
   ]
  },
  {
   "cell_type": "code",
   "execution_count": 206,
   "metadata": {},
   "outputs": [
    {
     "data": {
      "text/plain": [
       "(1.16445, 1.1609)"
      ]
     },
     "execution_count": 206,
     "metadata": {},
     "output_type": "execute_result"
    }
   ],
   "source": [
    "series[0][0], series[0][indexventa[0]]"
   ]
  },
  {
   "cell_type": "code",
   "execution_count": 40,
   "metadata": {},
   "outputs": [],
   "source": [
    "# x[:1000]"
   ]
  },
  {
   "cell_type": "code",
   "execution_count": 40,
   "metadata": {
    "scrolled": true
   },
   "outputs": [
    {
     "data": {
      "image/png": "[encoded data removed]",
      "text/plain": [
       "<Figure size 864x360 with 1 Axes>"
      ]
     },
     "metadata": {
      "needs_background": "light"
     },
     "output_type": "display_data"
    }
   ],
   "source": [
    "plt.figure(figsize=(12,5))\n",
    "plt.plot(series[0])\n",
    "\n",
    "\n",
    "plt.scatter(0,series[0][0], c='red')\n",
    "plt.scatter(indexventa[0], series[0][indexventa[0]], c='darkblue')\n",
    "\n",
    "plt.plot(np.arange(0,10000), np.ones(10000)*(series[0][0]-0.003))\n",
    "plt.plot(np.arange(0,10000), np.ones(10000)*(series[0][0]+0.03))\n",
    "plt.xlim(-100,4000)\n",
    "plt.ylim(1.16,1.2)\n",
    "plt.grid()\n",
    "plt.show()"
   ]
  },
  {
   "cell_type": "code",
   "execution_count": 199,
   "metadata": {},
   "outputs": [
    {
     "data": {
      "text/plain": [
       "(3085, 61)"
      ]
     },
     "execution_count": 199,
     "metadata": {},
     "output_type": "execute_result"
    }
   ],
   "source": [
    "indexventa[0], c[1]"
   ]
  },
  {
   "cell_type": "code",
   "execution_count": 204,
   "metadata": {},
   "outputs": [
    {
     "data": {
      "text/plain": [
       "(1.16446, 1.16445)"
      ]
     },
     "execution_count": 204,
     "metadata": {},
     "output_type": "execute_result"
    }
   ],
   "source": [
    "series[1][0], series[0][0]"
   ]
  },
  {
   "cell_type": "code",
   "execution_count": 203,
   "metadata": {},
   "outputs": [
    {
     "data": {
      "image/png": "[encoded data removed]",
      "text/plain": [
       "<Figure size 864x360 with 1 Axes>"
      ]
     },
     "metadata": {
      "needs_background": "light"
     },
     "output_type": "display_data"
    }
   ],
   "source": [
    "plt.figure(figsize=(12,5))\n",
    "plt.plot(series[0])\n",
    "\n",
    "\n",
    "plt.scatter(0,series[1][0], c='red')\n",
    "plt.scatter(indexventa[1], series[1][indexventa[1]], c='darkblue')\n",
    "\n",
    "plt.plot(np.arange(0,10000), np.ones(10000)*(series[1][0]-0.003))\n",
    "plt.xlim(-100,4000)\n",
    "plt.ylim(1.16,1.2)\n",
    "plt.grid()\n",
    "plt.show()"
   ]
  },
  {
   "cell_type": "code",
   "execution_count": 63,
   "metadata": {},
   "outputs": [
    {
     "data": {
      "image/png": "[encoded data removed]",
      "text/plain": [
       "<Figure size 864x360 with 1 Axes>"
      ]
     },
     "metadata": {
      "needs_background": "light"
     },
     "output_type": "display_data"
    }
   ],
   "source": [
    "plt.figure(figsize=(12,5))\n",
    "plt.plot(data.Close)\n",
    "plt.show()"
   ]
  },
  {
   "cell_type": "code",
   "execution_count": 167,
   "metadata": {},
   "outputs": [
    {
     "data": {
      "text/plain": [
       "1.1609"
      ]
     },
     "execution_count": 167,
     "metadata": {},
     "output_type": "execute_result"
    }
   ],
   "source": [
    "Venta[0]"
   ]
  },
  {
   "cell_type": "code",
   "execution_count": 148,
   "metadata": {},
   "outputs": [
    {
     "data": {
      "text/plain": [
       "array([-0.00321, -0.00304, -0.00309, ...,  0.     ,  0.     ,  0.     ])"
      ]
     },
     "execution_count": 148,
     "metadata": {},
     "output_type": "execute_result"
    }
   ],
   "source": [
    "y"
   ]
  },
  {
   "cell_type": "code",
   "execution_count": 149,
   "metadata": {},
   "outputs": [
    {
     "data": {
      "text/html": [
       "<div>\n",
       "<style scoped>\n",
       "    .dataframe tbody tr th:only-of-type {\n",
       "        vertical-align: middle;\n",
       "    }\n",
       "\n",
       "    .dataframe tbody tr th {\n",
       "        vertical-align: top;\n",
       "    }\n",
       "\n",
       "    .dataframe thead th {\n",
       "        text-align: right;\n",
       "    }\n",
       "</style>\n",
       "<table border=\"1\" class=\"dataframe\">\n",
       "  <thead>\n",
       "    <tr style=\"text-align: right;\">\n",
       "      <th></th>\n",
       "      <th>Close</th>\n",
       "      <th>RMShort</th>\n",
       "      <th>RMSLong</th>\n",
       "      <th>a</th>\n",
       "    </tr>\n",
       "    <tr>\n",
       "      <th>Time</th>\n",
       "      <th></th>\n",
       "      <th></th>\n",
       "      <th></th>\n",
       "      <th></th>\n",
       "    </tr>\n",
       "  </thead>\n",
       "  <tbody>\n",
       "    <tr>\n",
       "      <th>2020-11-01 17:14:00</th>\n",
       "      <td>1.16488</td>\n",
       "      <td>1.164871</td>\n",
       "      <td>1.164853</td>\n",
       "      <td>1</td>\n",
       "    </tr>\n",
       "    <tr>\n",
       "      <th>2020-11-01 17:15:00</th>\n",
       "      <td>1.16478</td>\n",
       "      <td>1.164864</td>\n",
       "      <td>1.164853</td>\n",
       "      <td>1</td>\n",
       "    </tr>\n",
       "    <tr>\n",
       "      <th>2020-11-01 17:16:00</th>\n",
       "      <td>1.16477</td>\n",
       "      <td>1.164851</td>\n",
       "      <td>1.164852</td>\n",
       "      <td>0</td>\n",
       "    </tr>\n",
       "    <tr>\n",
       "      <th>2020-11-01 17:17:00</th>\n",
       "      <td>1.16475</td>\n",
       "      <td>1.164839</td>\n",
       "      <td>1.164846</td>\n",
       "      <td>0</td>\n",
       "    </tr>\n",
       "    <tr>\n",
       "      <th>2020-11-01 17:18:00</th>\n",
       "      <td>1.16478</td>\n",
       "      <td>1.164832</td>\n",
       "      <td>1.164842</td>\n",
       "      <td>0</td>\n",
       "    </tr>\n",
       "    <tr>\n",
       "      <th>2020-11-01 17:19:00</th>\n",
       "      <td>1.16475</td>\n",
       "      <td>1.164824</td>\n",
       "      <td>1.164836</td>\n",
       "      <td>0</td>\n",
       "    </tr>\n",
       "    <tr>\n",
       "      <th>2020-11-01 17:20:00</th>\n",
       "      <td>1.16483</td>\n",
       "      <td>1.164822</td>\n",
       "      <td>1.164835</td>\n",
       "      <td>0</td>\n",
       "    </tr>\n",
       "    <tr>\n",
       "      <th>2020-11-01 17:21:00</th>\n",
       "      <td>1.16479</td>\n",
       "      <td>1.164814</td>\n",
       "      <td>1.164827</td>\n",
       "      <td>0</td>\n",
       "    </tr>\n",
       "    <tr>\n",
       "      <th>2020-11-01 17:22:00</th>\n",
       "      <td>1.16479</td>\n",
       "      <td>1.164804</td>\n",
       "      <td>1.164822</td>\n",
       "      <td>0</td>\n",
       "    </tr>\n",
       "    <tr>\n",
       "      <th>2020-11-01 17:23:00</th>\n",
       "      <td>1.16478</td>\n",
       "      <td>1.164790</td>\n",
       "      <td>1.164817</td>\n",
       "      <td>0</td>\n",
       "    </tr>\n",
       "    <tr>\n",
       "      <th>2020-11-01 17:24:00</th>\n",
       "      <td>1.16466</td>\n",
       "      <td>1.164768</td>\n",
       "      <td>1.164806</td>\n",
       "      <td>0</td>\n",
       "    </tr>\n",
       "    <tr>\n",
       "      <th>2020-11-01 17:25:00</th>\n",
       "      <td>1.16466</td>\n",
       "      <td>1.164756</td>\n",
       "      <td>1.164793</td>\n",
       "      <td>0</td>\n",
       "    </tr>\n",
       "    <tr>\n",
       "      <th>2020-11-01 17:26:00</th>\n",
       "      <td>1.16466</td>\n",
       "      <td>1.164745</td>\n",
       "      <td>1.164779</td>\n",
       "      <td>0</td>\n",
       "    </tr>\n",
       "    <tr>\n",
       "      <th>2020-11-01 17:27:00</th>\n",
       "      <td>1.16463</td>\n",
       "      <td>1.164733</td>\n",
       "      <td>1.164762</td>\n",
       "      <td>0</td>\n",
       "    </tr>\n",
       "    <tr>\n",
       "      <th>2020-11-01 17:28:00</th>\n",
       "      <td>1.16459</td>\n",
       "      <td>1.164714</td>\n",
       "      <td>1.164740</td>\n",
       "      <td>0</td>\n",
       "    </tr>\n",
       "    <tr>\n",
       "      <th>2020-11-01 17:29:00</th>\n",
       "      <td>1.16458</td>\n",
       "      <td>1.164697</td>\n",
       "      <td>1.164720</td>\n",
       "      <td>0</td>\n",
       "    </tr>\n",
       "    <tr>\n",
       "      <th>2020-11-01 17:30:00</th>\n",
       "      <td>1.16455</td>\n",
       "      <td>1.164669</td>\n",
       "      <td>1.164705</td>\n",
       "      <td>0</td>\n",
       "    </tr>\n",
       "    <tr>\n",
       "      <th>2020-11-01 17:31:00</th>\n",
       "      <td>1.16454</td>\n",
       "      <td>1.164644</td>\n",
       "      <td>1.164689</td>\n",
       "      <td>0</td>\n",
       "    </tr>\n",
       "    <tr>\n",
       "      <th>2020-11-01 17:32:00</th>\n",
       "      <td>1.16454</td>\n",
       "      <td>1.164619</td>\n",
       "      <td>1.164675</td>\n",
       "      <td>0</td>\n",
       "    </tr>\n",
       "    <tr>\n",
       "      <th>2020-11-01 17:33:00</th>\n",
       "      <td>1.16454</td>\n",
       "      <td>1.164595</td>\n",
       "      <td>1.164659</td>\n",
       "      <td>0</td>\n",
       "    </tr>\n",
       "    <tr>\n",
       "      <th>2020-11-01 17:34:00</th>\n",
       "      <td>1.16450</td>\n",
       "      <td>1.164579</td>\n",
       "      <td>1.164643</td>\n",
       "      <td>0</td>\n",
       "    </tr>\n",
       "    <tr>\n",
       "      <th>2020-11-01 17:35:00</th>\n",
       "      <td>1.16459</td>\n",
       "      <td>1.164572</td>\n",
       "      <td>1.164627</td>\n",
       "      <td>0</td>\n",
       "    </tr>\n",
       "    <tr>\n",
       "      <th>2020-11-01 17:36:00</th>\n",
       "      <td>1.16454</td>\n",
       "      <td>1.164560</td>\n",
       "      <td>1.164610</td>\n",
       "      <td>0</td>\n",
       "    </tr>\n",
       "    <tr>\n",
       "      <th>2020-11-01 17:37:00</th>\n",
       "      <td>1.16448</td>\n",
       "      <td>1.164545</td>\n",
       "      <td>1.164589</td>\n",
       "      <td>0</td>\n",
       "    </tr>\n",
       "    <tr>\n",
       "      <th>2020-11-01 17:38:00</th>\n",
       "      <td>1.16447</td>\n",
       "      <td>1.164533</td>\n",
       "      <td>1.164569</td>\n",
       "      <td>0</td>\n",
       "    </tr>\n",
       "    <tr>\n",
       "      <th>2020-11-01 17:39:00</th>\n",
       "      <td>1.16447</td>\n",
       "      <td>1.164522</td>\n",
       "      <td>1.164556</td>\n",
       "      <td>0</td>\n",
       "    </tr>\n",
       "    <tr>\n",
       "      <th>2020-11-01 17:40:00</th>\n",
       "      <td>1.16456</td>\n",
       "      <td>1.164523</td>\n",
       "      <td>1.164549</td>\n",
       "      <td>0</td>\n",
       "    </tr>\n",
       "    <tr>\n",
       "      <th>2020-11-01 17:41:00</th>\n",
       "      <td>1.16450</td>\n",
       "      <td>1.164519</td>\n",
       "      <td>1.164539</td>\n",
       "      <td>0</td>\n",
       "    </tr>\n",
       "    <tr>\n",
       "      <th>2020-11-01 17:42:00</th>\n",
       "      <td>1.16451</td>\n",
       "      <td>1.164516</td>\n",
       "      <td>1.164531</td>\n",
       "      <td>0</td>\n",
       "    </tr>\n",
       "    <tr>\n",
       "      <th>2020-11-01 17:43:00</th>\n",
       "      <td>1.16450</td>\n",
       "      <td>1.164512</td>\n",
       "      <td>1.164525</td>\n",
       "      <td>0</td>\n",
       "    </tr>\n",
       "    <tr>\n",
       "      <th>2020-11-01 17:44:00</th>\n",
       "      <td>1.16457</td>\n",
       "      <td>1.164519</td>\n",
       "      <td>1.164524</td>\n",
       "      <td>0</td>\n",
       "    </tr>\n",
       "    <tr>\n",
       "      <th>2020-11-01 17:45:00</th>\n",
       "      <td>1.16454</td>\n",
       "      <td>1.164514</td>\n",
       "      <td>1.164523</td>\n",
       "      <td>0</td>\n",
       "    </tr>\n",
       "    <tr>\n",
       "      <th>2020-11-01 17:46:00</th>\n",
       "      <td>1.16437</td>\n",
       "      <td>1.164497</td>\n",
       "      <td>1.164512</td>\n",
       "      <td>0</td>\n",
       "    </tr>\n",
       "    <tr>\n",
       "      <th>2020-11-01 17:47:00</th>\n",
       "      <td>1.16438</td>\n",
       "      <td>1.164487</td>\n",
       "      <td>1.164501</td>\n",
       "      <td>0</td>\n",
       "    </tr>\n",
       "    <tr>\n",
       "      <th>2020-11-01 17:48:00</th>\n",
       "      <td>1.16437</td>\n",
       "      <td>1.164477</td>\n",
       "      <td>1.164490</td>\n",
       "      <td>0</td>\n",
       "    </tr>\n",
       "    <tr>\n",
       "      <th>2020-11-01 17:49:00</th>\n",
       "      <td>1.16438</td>\n",
       "      <td>1.164468</td>\n",
       "      <td>1.164482</td>\n",
       "      <td>0</td>\n",
       "    </tr>\n",
       "    <tr>\n",
       "      <th>2020-11-01 17:52:00</th>\n",
       "      <td>1.16438</td>\n",
       "      <td>1.164450</td>\n",
       "      <td>1.164468</td>\n",
       "      <td>0</td>\n",
       "    </tr>\n",
       "    <tr>\n",
       "      <th>2020-11-01 17:53:00</th>\n",
       "      <td>1.16439</td>\n",
       "      <td>1.164439</td>\n",
       "      <td>1.164458</td>\n",
       "      <td>0</td>\n",
       "    </tr>\n",
       "    <tr>\n",
       "      <th>2020-11-01 17:55:00</th>\n",
       "      <td>1.16438</td>\n",
       "      <td>1.164426</td>\n",
       "      <td>1.164451</td>\n",
       "      <td>0</td>\n",
       "    </tr>\n",
       "    <tr>\n",
       "      <th>2020-11-01 17:56:00</th>\n",
       "      <td>1.16439</td>\n",
       "      <td>1.164415</td>\n",
       "      <td>1.164446</td>\n",
       "      <td>0</td>\n",
       "    </tr>\n",
       "    <tr>\n",
       "      <th>2020-11-01 17:57:00</th>\n",
       "      <td>1.16439</td>\n",
       "      <td>1.164397</td>\n",
       "      <td>1.164441</td>\n",
       "      <td>0</td>\n",
       "    </tr>\n",
       "    <tr>\n",
       "      <th>2020-11-01 17:58:00</th>\n",
       "      <td>1.16440</td>\n",
       "      <td>1.164383</td>\n",
       "      <td>1.164430</td>\n",
       "      <td>0</td>\n",
       "    </tr>\n",
       "    <tr>\n",
       "      <th>2020-11-01 17:59:00</th>\n",
       "      <td>1.16439</td>\n",
       "      <td>1.164385</td>\n",
       "      <td>1.164423</td>\n",
       "      <td>0</td>\n",
       "    </tr>\n",
       "    <tr>\n",
       "      <th>2020-11-01 18:00:00</th>\n",
       "      <td>1.16423</td>\n",
       "      <td>1.164370</td>\n",
       "      <td>1.164404</td>\n",
       "      <td>0</td>\n",
       "    </tr>\n",
       "    <tr>\n",
       "      <th>2020-11-01 18:01:00</th>\n",
       "      <td>1.16429</td>\n",
       "      <td>1.164362</td>\n",
       "      <td>1.164390</td>\n",
       "      <td>0</td>\n",
       "    </tr>\n",
       "    <tr>\n",
       "      <th>2020-11-01 18:02:00</th>\n",
       "      <td>1.16453</td>\n",
       "      <td>1.164377</td>\n",
       "      <td>1.164387</td>\n",
       "      <td>0</td>\n",
       "    </tr>\n",
       "    <tr>\n",
       "      <th>2020-11-01 18:03:00</th>\n",
       "      <td>1.16445</td>\n",
       "      <td>1.164384</td>\n",
       "      <td>1.164381</td>\n",
       "      <td>1</td>\n",
       "    </tr>\n",
       "    <tr>\n",
       "      <th>2020-11-01 18:04:00</th>\n",
       "      <td>1.16439</td>\n",
       "      <td>1.164384</td>\n",
       "      <td>1.164383</td>\n",
       "      <td>1</td>\n",
       "    </tr>\n",
       "    <tr>\n",
       "      <th>2020-11-01 18:05:00</th>\n",
       "      <td>1.16428</td>\n",
       "      <td>1.164374</td>\n",
       "      <td>1.164376</td>\n",
       "      <td>0</td>\n",
       "    </tr>\n",
       "    <tr>\n",
       "      <th>2020-11-01 18:06:00</th>\n",
       "      <td>1.16436</td>\n",
       "      <td>1.164371</td>\n",
       "      <td>1.164375</td>\n",
       "      <td>0</td>\n",
       "    </tr>\n",
       "    <tr>\n",
       "      <th>2020-11-01 18:07:00</th>\n",
       "      <td>1.16408</td>\n",
       "      <td>1.164340</td>\n",
       "      <td>1.164355</td>\n",
       "      <td>0</td>\n",
       "    </tr>\n",
       "    <tr>\n",
       "      <th>2020-11-01 18:08:00</th>\n",
       "      <td>1.16412</td>\n",
       "      <td>1.164312</td>\n",
       "      <td>1.164338</td>\n",
       "      <td>0</td>\n",
       "    </tr>\n",
       "    <tr>\n",
       "      <th>2020-11-01 18:09:00</th>\n",
       "      <td>1.16424</td>\n",
       "      <td>1.164297</td>\n",
       "      <td>1.164328</td>\n",
       "      <td>0</td>\n",
       "    </tr>\n",
       "    <tr>\n",
       "      <th>2020-11-01 18:10:00</th>\n",
       "      <td>1.16429</td>\n",
       "      <td>1.164303</td>\n",
       "      <td>1.164322</td>\n",
       "      <td>0</td>\n",
       "    </tr>\n",
       "    <tr>\n",
       "      <th>2020-11-01 18:11:00</th>\n",
       "      <td>1.16421</td>\n",
       "      <td>1.164295</td>\n",
       "      <td>1.164310</td>\n",
       "      <td>0</td>\n",
       "    </tr>\n",
       "    <tr>\n",
       "      <th>2020-11-01 18:12:00</th>\n",
       "      <td>1.16426</td>\n",
       "      <td>1.164268</td>\n",
       "      <td>1.164301</td>\n",
       "      <td>0</td>\n",
       "    </tr>\n",
       "    <tr>\n",
       "      <th>2020-11-01 18:13:00</th>\n",
       "      <td>1.16423</td>\n",
       "      <td>1.164246</td>\n",
       "      <td>1.164290</td>\n",
       "      <td>0</td>\n",
       "    </tr>\n",
       "    <tr>\n",
       "      <th>2020-11-01 18:14:00</th>\n",
       "      <td>1.16421</td>\n",
       "      <td>1.164228</td>\n",
       "      <td>1.164278</td>\n",
       "      <td>0</td>\n",
       "    </tr>\n",
       "    <tr>\n",
       "      <th>2020-11-01 18:15:00</th>\n",
       "      <td>1.16422</td>\n",
       "      <td>1.164222</td>\n",
       "      <td>1.164277</td>\n",
       "      <td>0</td>\n",
       "    </tr>\n",
       "    <tr>\n",
       "      <th>2020-11-01 18:16:00</th>\n",
       "      <td>1.16415</td>\n",
       "      <td>1.164201</td>\n",
       "      <td>1.164268</td>\n",
       "      <td>0</td>\n",
       "    </tr>\n",
       "  </tbody>\n",
       "</table>\n",
       "</div>"
      ],
      "text/plain": [
       "                       Close   RMShort   RMSLong  a\n",
       "Time                                               \n",
       "2020-11-01 17:14:00  1.16488  1.164871  1.164853  1\n",
       "2020-11-01 17:15:00  1.16478  1.164864  1.164853  1\n",
       "2020-11-01 17:16:00  1.16477  1.164851  1.164852  0\n",
       "2020-11-01 17:17:00  1.16475  1.164839  1.164846  0\n",
       "2020-11-01 17:18:00  1.16478  1.164832  1.164842  0\n",
       "2020-11-01 17:19:00  1.16475  1.164824  1.164836  0\n",
       "2020-11-01 17:20:00  1.16483  1.164822  1.164835  0\n",
       "2020-11-01 17:21:00  1.16479  1.164814  1.164827  0\n",
       "2020-11-01 17:22:00  1.16479  1.164804  1.164822  0\n",
       "2020-11-01 17:23:00  1.16478  1.164790  1.164817  0\n",
       "2020-11-01 17:24:00  1.16466  1.164768  1.164806  0\n",
       "2020-11-01 17:25:00  1.16466  1.164756  1.164793  0\n",
       "2020-11-01 17:26:00  1.16466  1.164745  1.164779  0\n",
       "2020-11-01 17:27:00  1.16463  1.164733  1.164762  0\n",
       "2020-11-01 17:28:00  1.16459  1.164714  1.164740  0\n",
       "2020-11-01 17:29:00  1.16458  1.164697  1.164720  0\n",
       "2020-11-01 17:30:00  1.16455  1.164669  1.164705  0\n",
       "2020-11-01 17:31:00  1.16454  1.164644  1.164689  0\n",
       "2020-11-01 17:32:00  1.16454  1.164619  1.164675  0\n",
       "2020-11-01 17:33:00  1.16454  1.164595  1.164659  0\n",
       "2020-11-01 17:34:00  1.16450  1.164579  1.164643  0\n",
       "2020-11-01 17:35:00  1.16459  1.164572  1.164627  0\n",
       "2020-11-01 17:36:00  1.16454  1.164560  1.164610  0\n",
       "2020-11-01 17:37:00  1.16448  1.164545  1.164589  0\n",
       "2020-11-01 17:38:00  1.16447  1.164533  1.164569  0\n",
       "2020-11-01 17:39:00  1.16447  1.164522  1.164556  0\n",
       "2020-11-01 17:40:00  1.16456  1.164523  1.164549  0\n",
       "2020-11-01 17:41:00  1.16450  1.164519  1.164539  0\n",
       "2020-11-01 17:42:00  1.16451  1.164516  1.164531  0\n",
       "2020-11-01 17:43:00  1.16450  1.164512  1.164525  0\n",
       "2020-11-01 17:44:00  1.16457  1.164519  1.164524  0\n",
       "2020-11-01 17:45:00  1.16454  1.164514  1.164523  0\n",
       "2020-11-01 17:46:00  1.16437  1.164497  1.164512  0\n",
       "2020-11-01 17:47:00  1.16438  1.164487  1.164501  0\n",
       "2020-11-01 17:48:00  1.16437  1.164477  1.164490  0\n",
       "2020-11-01 17:49:00  1.16438  1.164468  1.164482  0\n",
       "2020-11-01 17:52:00  1.16438  1.164450  1.164468  0\n",
       "2020-11-01 17:53:00  1.16439  1.164439  1.164458  0\n",
       "2020-11-01 17:55:00  1.16438  1.164426  1.164451  0\n",
       "2020-11-01 17:56:00  1.16439  1.164415  1.164446  0\n",
       "2020-11-01 17:57:00  1.16439  1.164397  1.164441  0\n",
       "2020-11-01 17:58:00  1.16440  1.164383  1.164430  0\n",
       "2020-11-01 17:59:00  1.16439  1.164385  1.164423  0\n",
       "2020-11-01 18:00:00  1.16423  1.164370  1.164404  0\n",
       "2020-11-01 18:01:00  1.16429  1.164362  1.164390  0\n",
       "2020-11-01 18:02:00  1.16453  1.164377  1.164387  0\n",
       "2020-11-01 18:03:00  1.16445  1.164384  1.164381  1\n",
       "2020-11-01 18:04:00  1.16439  1.164384  1.164383  1\n",
       "2020-11-01 18:05:00  1.16428  1.164374  1.164376  0\n",
       "2020-11-01 18:06:00  1.16436  1.164371  1.164375  0\n",
       "2020-11-01 18:07:00  1.16408  1.164340  1.164355  0\n",
       "2020-11-01 18:08:00  1.16412  1.164312  1.164338  0\n",
       "2020-11-01 18:09:00  1.16424  1.164297  1.164328  0\n",
       "2020-11-01 18:10:00  1.16429  1.164303  1.164322  0\n",
       "2020-11-01 18:11:00  1.16421  1.164295  1.164310  0\n",
       "2020-11-01 18:12:00  1.16426  1.164268  1.164301  0\n",
       "2020-11-01 18:13:00  1.16423  1.164246  1.164290  0\n",
       "2020-11-01 18:14:00  1.16421  1.164228  1.164278  0\n",
       "2020-11-01 18:15:00  1.16422  1.164222  1.164277  0\n",
       "2020-11-01 18:16:00  1.16415  1.164201  1.164268  0"
      ]
     },
     "execution_count": 149,
     "metadata": {},
     "output_type": "execute_result"
    }
   ],
   "source": [
    "data2.head(60)"
   ]
  },
  {
   "cell_type": "code",
   "execution_count": 134,
   "metadata": {},
   "outputs": [
    {
     "data": {
      "text/plain": [
       "10.549830000000007"
      ]
     },
     "execution_count": 134,
     "metadata": {},
     "output_type": "execute_result"
    }
   ],
   "source": [
    "x.sum()"
   ]
  },
  {
   "cell_type": "code",
   "execution_count": 135,
   "metadata": {},
   "outputs": [
    {
     "data": {
      "text/plain": [
       "(500, 2312)"
      ]
     },
     "execution_count": 135,
     "metadata": {},
     "output_type": "execute_result"
    }
   ],
   "source": [
    "len(x[x>0]),len(x)"
   ]
  },
  {
   "cell_type": "markdown",
   "metadata": {},
   "source": [
    "### **Otro**"
   ]
  },
  {
   "cell_type": "code",
   "execution_count": 232,
   "metadata": {
    "scrolled": true
   },
   "outputs": [
    {
     "name": "stdout",
     "output_type": "stream",
     "text": [
      "         11342 function calls (11228 primitive calls) in 1.180 seconds\n",
      "\n",
      "   Ordered by: call count, cumulative time\n",
      "   List reduced from 479 to 5 due to restriction <5>\n",
      "\n",
      "   ncalls  tottime  percall  cumtime  percall filename:lineno(function)\n",
      "     1254    0.000    0.000    0.000    0.000 {method 'append' of 'list' objects}\n",
      "     1236    0.000    0.000    1.007    0.001 {built-in method builtins.next}\n",
      "     1231    0.466    0.000    0.466    0.000 <ipython-input-223-f9b38a944dc8>:34(<genexpr>)\n",
      "     1230    0.541    0.000    0.541    0.000 <ipython-input-219-da09550e3079>:4(<genexpr>)\n",
      "     1037    0.000    0.000    0.001    0.000 {built-in method builtins.isinstance}\n",
      "\n",
      "\n"
     ]
    },
    {
     "data": {
      "text/plain": [
       "<pstats.Stats at 0x162f5678c18>"
      ]
     },
     "execution_count": 232,
     "metadata": {},
     "output_type": "execute_result"
    }
   ],
   "source": [
    "import cProfile\n",
    "import pstats\n",
    "\n",
    "profile = cProfile.Profile()\n",
    "profile.enable()\n",
    "a__,b__,c__, d__= estrategiaabierta(data,TH,RMS,RML,M)\n",
    "profile.disable()\n",
    "ps = pstats.Stats(profile)\n",
    "ps.sort_stats('calls', 'cumtime') \n",
    "ps.print_stats(5)"
   ]
  },
  {
   "cell_type": "code",
   "execution_count": 183,
   "metadata": {},
   "outputs": [],
   "source": [
    "#Compra_ = []\n",
    "#for i in series_:\n",
    "#    try:\n",
    "#        Compra_.append(next(filter(lambda x: x - i[0] >= TH or i[0] - x >= M*TH, i)))\n",
    "#    except:\n",
    "#        Compra_.append(i[0])\n",
    "#        \n",
    "#        \n",
    "#        \n",
    "#Compra_ = []\n",
    "#for i in series_:\n",
    "#    Compra_.append(next(filter(lambda x: x - i[0] >= TH or i[0] - x >= M*TH, i), i[0]))\n",
    "#    \n",
    "#    \n",
    "#    \n",
    "#Compra_ = []\n",
    "#for i in series_:\n",
    "#    try:\n",
    "#        Compra_.append(next(filter(lambda x: x - i[0] >= TH or i[0] - x >= M*TH, i)))\n",
    "#    except:\n",
    "#        Compra_.append(i[0])"
   ]
  },
  {
   "cell_type": "code",
   "execution_count": 194,
   "metadata": {},
   "outputs": [],
   "source": [
    "RMS = 50\n",
    "RML = 400\n",
    "TH = 0.0024\n",
    "M = 3\n",
    "\n",
    "def op(data:'Datos a probar',\n",
    "                   TH:'StopLoss',\n",
    "                   RMS:'Media Móvil Corta',\n",
    "                   RML:'Media Móvil Larga',\n",
    "                   M:'Multiplicador de TakeProfit en función de StopLoss'):\n",
    "    \n",
    "    data2 = pd.DataFrame(data['Close'])\n",
    "    data2['RMShort'] = data2.Close.rolling(RMS).mean()\n",
    "    data2['RMSLong'] = data2.Close.rolling(RML).mean()\n",
    "    M_TH = M*TH\n",
    "    \n",
    "    a = [1 if i>0 else 0 for i in data2.RMShort-data2.RMSLong]\n",
    "\n",
    "    c = []\n",
    "    d = []\n",
    "    for k in range(1,len(data2)):\n",
    "        if a[k] > a[k-1]:\n",
    "            c.append(k)\n",
    "        elif a[k] < a[k-1]:\n",
    "            d.append(k)\n",
    "    \n",
    "    #Lista de compras y ventas abiertas\n",
    "    series = []\n",
    "    series_ = []\n",
    "\n",
    "    #Compra a Venta\n",
    "    for i in range(len(c)):\n",
    "        series.append(np.array(data2.Close[c[i]:]))\n",
    "\n",
    "    Compra = data2.Close[c].values\n",
    "    Venta = np.array([next(filter(lambda x: i[0] - x >= TH or x - i[0] >= M_TH, i)) for i in series])\n",
    "\n",
    "    #Profit por cada compra venta\n",
    "    x = (Venta - Compra[:len(Venta)])\n",
    "    #Profit total compra-venta\n",
    "    profit_compras = x.sum()\n",
    "\n",
    "    #Venta en corto\n",
    "    for i in range(len(d)):\n",
    "        series_.append(np.array(data2.Close[d[i]:]))\n",
    "\n",
    "    Venta_ = data2.Close[d].values\n",
    "    \n",
    "   \n",
    "    Compra_ = [\n",
    "        next(\n",
    "            (x for x in xs if x - xs[0] >= TH or xs[0] - x >= M_TH),\n",
    "            xs[0]\n",
    "        )\n",
    "        for xs in series_\n",
    "    ]\n",
    "\n",
    "    #Profit por cada venta en corto\n",
    "    y = (Venta_[:len(Compra_)] - Compra_)\n",
    "    #Profit total compra-venta\n",
    "    profit_ventas = y.sum()\n",
    "\n",
    "    #Profit Total\n",
    "    profit = profit_compras + profit_ventas\n",
    "\n",
    "    return profit_compras, profit_ventas, profit, Venta\n",
    "#    for k in range(len(series)):\n",
    "#        if series[0] - series[k] >= TH or series[k] - series[0] >= M*TH:\n",
    "#            da.append(k+c[i])\n",
    "#            break\n",
    "#\n",
    "\n",
    "#Venta = data2.Close[da].values\n",
    "#\n",
    "#    \n",
    "#\n",
    "#if len(Compra)==len(Venta):\n",
    "#    x = (Venta - Compra)\n",
    "#else:\n",
    "#    x = (Venta - Compra[:len(Venta)])\n",
    "\n",
    "#Venta Rápida\n",
    "#ca = np.zeros(len(d)).astype(int)\n",
    "#for i in range(len(d)):\n",
    "#    series = np.array(data2.Close[d[i]:])\n",
    "#    try:\n",
    "#        ca[i] = list(series).index(next(filter(lambda x: x - series[0] >= TH or series[0] - x >= M*TH,series)))+d[i]\n",
    "#    except:\n",
    "#        ca[i] = d[i]\n",
    "#\n",
    "#Compra_ = data2.Close[ca].values\n",
    "#Venta_ = data2.Close[d].values\n",
    "#\n",
    "#if len(Compra_)==len(Venta_):\n",
    "#    y = (Venta_ - Compra_)\n",
    "#else:\n",
    "#    y = (Venta_[:len(Compra_)] - Compra_)\n",
    "\n",
    "\n",
    "#profit_compras = x.sum()\n",
    "#profit_ventas = y.sum()\n",
    "\n",
    "#profit = profit_compras + profit_ventas\n",
    "\n",
    "\n",
    "    #return profit_compras, profit_ventas, profit"
   ]
  },
  {
   "cell_type": "code",
   "execution_count": null,
   "metadata": {},
   "outputs": [],
   "source": []
  }
 ],
 "metadata": {
  "kernelspec": {
   "display_name": "Python 3",
   "language": "python",
   "name": "python3"
  },
  "language_info": {
   "codemirror_mode": {
    "name": "ipython",
    "version": 3
   },
   "file_extension": ".py",
   "mimetype": "text/x-python",
   "name": "python",
   "nbconvert_exporter": "python",
   "pygments_lexer": "ipython3",
   "version": "3.8.3"
  }
 },
 "nbformat": 4,
 "nbformat_minor": 4
}

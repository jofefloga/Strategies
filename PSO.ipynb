{
 "cells": [
  {
   "cell_type": "code",
   "execution_count": 7,
   "metadata": {},
   "outputs": [],
   "source": [
    "#Importar Librerías\n",
    "import numpy as np\n",
    "import pandas as pd\n"
   ]
  },
  {
   "cell_type": "code",
   "execution_count": 32,
   "metadata": {},
   "outputs": [],
   "source": [
    "x = np.arange(0,10,.1)\n",
    "y = x**2"
   ]
  },
  {
   "cell_type": "code",
   "execution_count": 39,
   "metadata": {},
   "outputs": [],
   "source": [
    "#PSO\n",
    "n_p = 500 #Número de partículas\n",
    "nvar = 1 #Número de variables\n",
    "\n",
    "#Posición\n",
    "xp = np.random.rand(nvar,n_p)*np.random.randint(-100,100,n_p) #Posiciones iniciales\n",
    "xpg = np.zeros(nvar) #Valor inicial del mejor global\n",
    "xpL = xp #Mejores posiciones locales iniciales\n",
    "\n",
    "#Desempeño\n",
    "fxpg = 10000 #Mejor desempeño (global), usualmente un valor alto para disminuir al minimizar\n",
    "fxpL = np.ones(n_p)*fxpg #Mejor desempeño local inicial (igual al global inicial)\n",
    "\n",
    "#Velocidad\n",
    "vx = np.zeros([nvar,n_p])\n",
    "c1 = 0.5 #Atracción hacia el local\n",
    "c2 = 0.5 #Atracción hacia el global\n",
    "\n",
    "#Componente de penalización\n",
    "a = 1000\n",
    "h = 0.001 #Variable de holgura\n",
    "\n",
    "##Parte Iterativa\n",
    "for i in range(100):\n",
    "    #Evaluación\n",
    "    fx =  xp[0]**2"
   ]
  },
  {
   "cell_type": "code",
   "execution_count": null,
   "metadata": {},
   "outputs": [],
   "source": []
  }
 ],
 "metadata": {
  "kernelspec": {
   "display_name": "Python 3",
   "language": "python",
   "name": "python3"
  },
  "language_info": {
   "codemirror_mode": {
    "name": "ipython",
    "version": 3
   },
   "file_extension": ".py",
   "mimetype": "text/x-python",
   "name": "python",
   "nbconvert_exporter": "python",
   "pygments_lexer": "ipython3",
   "version": "3.7.1"
  }
 },
 "nbformat": 4,
 "nbformat_minor": 2
}
